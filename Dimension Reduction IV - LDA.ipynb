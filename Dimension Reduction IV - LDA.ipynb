{
 "cells": [
  {
   "cell_type": "markdown",
   "id": "a6a76e66-3e1a-4313-ac8f-cd791df886b8",
   "metadata": {},
   "source": [
    "# Dimension Reduction IV: Linear Discriminant Analysis (LDA)\n",
    "### Implemented in Python"
   ]
  },
  {
   "cell_type": "markdown",
   "id": "0d865bc0-7b7f-4047-9f92-c1c8823f574f",
   "metadata": {},
   "source": [
    "<i>Patrick White</i></br>\n",
    "<i>Jan 06, 2025</i>"
   ]
  },
  {
   "cell_type": "markdown",
   "id": "d35db1d7-4d55-424e-9cae-83711d10b2ce",
   "metadata": {},
   "source": [
    "<img src=\"img/dr4.png\" style=\"height: 450px; width:auto;\">"
   ]
  },
  {
   "cell_type": "markdown",
   "id": "35dbee82-24d2-4b49-93c3-56cac6164c93",
   "metadata": {
    "tags": []
   },
   "source": [
    "# Outline\n",
    "\n",
    "- Fisher’s Linear Discriminant\n",
    "- Linear Discriminant Analysis\n",
    "    - Assumptions\n",
    "- Numpy Implementation\n",
    "- Advantages and Limitations\n",
    "- Scikit-Learn Implementation Details\n",
    "    - Parameters\n",
    "    - Attributes\n",
    "    - Methods"
   ]
  },
  {
   "cell_type": "markdown",
   "id": "3c417548-ed24-4495-9c5d-8424a62e8e53",
   "metadata": {},
   "source": [
    "# Fisher's Linear Discriminant\n",
    "\n",
    "LDA is a generalization of Fisher's linear discriminant, developed by Ronald Fisher in 1936. For intuition, we will explore it first.\n",
    "\n",
    "The goal of Fisher's linear discriminant is to find a linear combination of features that best separates two or more classes of objects. By maximizing the ratio of variance between the classes to the variance within the classes, it maximizes separability of the classes. The process is as follows:\n",
    "1. Compute the mean vectors for each class.\n",
    "2. Compute the within-class scatter matrix and between-class scatter matrix.\n",
    "3. Solve for the projection vector that maximizes the ratio of between-class scatter to within-class scatter.\n",
    "\n",
    "A scatter matrix is an unnormalized covariance matrix:\n",
    "\n",
    "$\\mathbf{S} = \\sum_{i=1}^n (x_i - \\mu)(x_i - \\mu)^T$\n",
    "\n",
    "There is an assumption that we model the data from each class with a Gaussian.\n",
    "\n",
    "$p(\\mathbf{x}_1) = \\mathcal{N}(\\mathbf{x}_1 | \\mathbf{m}_1, \\mathbf{S}_1)$\n",
    "\n",
    "$p(\\mathbf{x}_2) = \\mathcal{N}(\\mathbf{x}_2 | \\mathbf{m}_2, \\mathbf{S}_2)$\n",
    "\n",
    "where $\\mathbf{m}_i$ is the sample mean of class $i$, and $\\mathbf{S}_i$ is the sample covariance.\n",
    "\n",
    "The projections of the points from the two classes are then given by:\n",
    "\n",
    "$y_1^n = \\mathbf{w}^T \\mathbf{x}_1^n$\n",
    "\n",
    "$y_2^n = \\mathbf{w}^T \\mathbf{x}_2^n$\n",
    "\n",
    "Because the projections are linear, the projected distributions are also Gaussian.\n",
    "\n",
    "$p(y_1) = \\mathcal{N}(y_1 | \\mu_1, \\sigma_1^2)$\n",
    "\n",
    "$p(y_2) = \\mathcal{N}(y_2 | \\mu_2, \\sigma_2^2)$\n",
    "\n",
    "where: \n",
    "- $\\mu_i = \\mathbf{w}^T \\mathbf{m}_i$\n",
    "- $\\sigma_i^2 = \\mathbf{w}^T \\mathbf{S}_1 \\mathbf{w}$\n",
    "\n",
    "We search for a projection $\\mathbf{w}$ such that the projected distributions have minimal overlap, maximally separating the Gaussian means. In terms of projection $\\mathbf{w}$, the objective equation is:\n",
    "\n",
    "$F(\\mathbf{w}) = \\frac{ \\mathbf{w}^T \\mathbf{Aw} }{ \\mathbf{w}^T \\mathbf{Bw} }$\n",
    "\n",
    "where:\n",
    "\n",
    "- $\\mathbf{A} = (\\mathbf{m}_1 - \\mathbf{m}_2) (\\mathbf{m}_1 - \\mathbf{m}_2)^T$\n",
    "- $\\mathbf{B} = \\pi_1 \\mathbf{S}_1 + \\pi_2 \\mathbf{S}_2$\n",
    "- $\\pi_i$ is the fraction of the dataset in class $i$\n",
    "\n",
    "The optimal $\\mathbf{w}$ can be found by differentiating the above with respect to $\\mathbf{w}$.\n",
    "\n",
    "$\\frac{\\partial}{\\partial \\mathbf{w}} \\frac{ \\mathbf{w}^T \\mathbf{Aw} }{ \\mathbf{w}^T \\mathbf{Bw} } = \\frac{2}{\\mathbf{w B w})^2} = \\left[ (\\mathbf{w}^T \\mathbf{Bw}) \\mathbf{A w} - (\\mathbf{w}^T \\mathbf{A w}) \\mathbf{Bw} \\right]$\n",
    "\n",
    "therefore the zero derivative requirement is:\n",
    "\n",
    "$(\\mathbf{w}^T \\mathbf{Bw}) \\mathbf{A w} = (\\mathbf{w}^T \\mathbf{A w}) \\mathbf{B w}$\n",
    "\n",
    "Multiplying by the inverse of $\\mathbf{B}$, we have:\n",
    "\n",
    "$\\mathbf{B}^{-1} (\\mathbf{m}_1 - \\mathbf{m}_2) (\\mathbf{m}_1 - \\mathbf{m}_2)^T \\mathbf{w} = \\frac{ \\mathbf{w}^T \\mathbf{A w} }{ \\mathbf{w}^T \\mathbf{B w} } \\mathbf{w}$\n",
    "\n",
    "This means the optimal projection is explicitly given by:\n",
    "\n",
    "$\\mathbf{w} \\propto \\mathbf{B}^{-1} (\\mathbf{m}_1 - \\mathbf{m}_2)$\n",
    "\n",
    "Although the proportionality factor depends on $\\mathbf{w}$, we may take it to be constant since the objective function $F(\\mathbf{w})$ of the above equation is invariant to rescaling of $\\mathbf{w}$. We may therefore take:\n",
    "\n",
    "$\\mathbf{w} = k \\mathbf{B}^{-1} (\\mathbf{m}_1 - \\mathbf{m}_2)$\n",
    "\n",
    "It is common to rescale $\\mathbf{w}$ to have unit length, $\\mathbf{w}^T \\mathbf{w} = 1$.\n",
    "\n",
    "The denominator of Fisher's objective can become zero, and the objective ill-defined."
   ]
  },
  {
   "cell_type": "markdown",
   "id": "cbe85ce5-b8e7-4749-9804-44f8ab14170e",
   "metadata": {},
   "source": [
    "# Linear Discriminant Analysis (LDA)\n",
    "\n",
    "As mentioned above, LDA is a generalization of Fisher's linear discriminant, extending it to handle multiple classes of data. LDA assumes that the data follow a multivariate normal distribution with class-specific parameters and estimates the prior probabilities, the means, and the covariance matrices of each class, which are assumed to equal. It computes the linear discriminant function, a linear combination of features that maximizes the ratio of between-class variance to within-class variance, and then projects the data onto the linear discriminant, obtaining the LDA score for each point based on position and distance from the discriminant function. This provides the likelihood of each data point belonging to each class. It classifies the data points based on the LDA score and the posterior probability of each class.\n",
    "\n",
    "The process is as follows:\n",
    "\n",
    "1. Compute the mean vectors for each class.\n",
    "2. Compute the within-class scatter matrix and between-class scatter matrix.\n",
    "3. Find the eigenvalues and eigenvectors that result from the combination of the within-class and between-class scatter matrices.\n",
    "4. Choose the top eigenvectors that correspond to the largest eigenvalues to form a new subspace.\n",
    "\n",
    "The approach to LDA is similar to that of PCA, but whereas PCA finds component axes that maximize the variance, LDA finds component axes that maximize class separability. \n",
    "\n",
    "We have two different scatter matrices, within-class scatter $S_W$ and between-class scatter $S_B$. The within-class scatter matrix describes separation of points within each class and the between-class scatter matrix describes the separation between classes.\n",
    "\n",
    "The eigenvalue/eigenvector problem is then to compute eigenvalue and eigenvectors for $S_W^{-1} S_B$. Each eigenvector represents one axis of the LDA space, and the associated eigenvalue represents the robustness of this eigenvector. The robustness of the eigenvector reflects its ability to discriminate between different classes. Thus, the eigenvectors with the higher eigenvalues are used to construct a lower-dimensional space, projecting each point onto it.\n",
    "\n",
    "## Assumptions\n",
    "\n",
    "The assumptions of LDA include:\n",
    "- That all predictor variables have the same variance (so we normally scale each variable to have the same mean and variance).\n",
    "- That each class has the same covariance matrix\n",
    "- That features are independent.\n",
    "- That classes are linearly separable.\n",
    "- A lack of outliers"
   ]
  },
  {
   "cell_type": "markdown",
   "id": "f119e296-4887-487a-88b2-c854bd620d58",
   "metadata": {},
   "source": [
    "# Numpy Implementation\n",
    "\n",
    "Let's start with a 'from scratch' implementation before moving on to the <code>sklearn</code> one. The only thing I'll import from <code>sklearn</code> is some data to work with. We'll use the famous Iris dataset, because it has few classes, which will make it easier to visualize, and has entirely numerical features, so it will require no preprocessing."
   ]
  },
  {
   "cell_type": "code",
   "execution_count": 1,
   "id": "55c421a8-c3cb-4a2f-9e65-aaceb7a3eab6",
   "metadata": {
    "tags": []
   },
   "outputs": [
    {
     "name": "stderr",
     "output_type": "stream",
     "text": [
      "C:\\ProgramData\\anaconda3\\Lib\\site-packages\\pandas\\core\\arrays\\masked.py:60: UserWarning: Pandas requires version '1.3.6' or newer of 'bottleneck' (version '1.3.5' currently installed).\n",
      "  from pandas.core import (\n"
     ]
    }
   ],
   "source": [
    "import numpy as np\n",
    "import matplotlib.pyplot as plt\n",
    "from sklearn import datasets\n",
    "\n",
    "data = datasets.load_iris()\n",
    "X, y = data.data, data.target\n",
    "\n",
    "n_features = X.shape[1]\n",
    "class_labels = np.unique(y)"
   ]
  },
  {
   "cell_type": "markdown",
   "id": "6deabeff-7097-46e0-b48f-7028ab4f24eb",
   "metadata": {},
   "source": [
    "Next, we'll calculate $S_W$ and $S_B$."
   ]
  },
  {
   "cell_type": "code",
   "execution_count": 2,
   "id": "f97ecf05-8f3d-4404-bb36-47f3829bd38e",
   "metadata": {
    "tags": []
   },
   "outputs": [],
   "source": [
    "SW = np.zeros((n_features, n_features))\n",
    "SB = np.zeros((n_features, n_features))\n",
    "\n",
    "mean_overall = np.mean(X, axis=0)\n",
    "\n",
    "for c in class_labels:\n",
    "    X_c = X[y == c]\n",
    "    mean_c = np.mean(X_c, axis=0)\n",
    "    SW += (X_c - mean_c).T.dot((X_c - mean_c))\n",
    "\n",
    "    n_c = X_c.shape[0]\n",
    "    mean_diff = (mean_c - mean_overall).reshape(n_features, 1)\n",
    "    SB += n_c * (mean_diff).dot(mean_diff.T)"
   ]
  },
  {
   "cell_type": "markdown",
   "id": "ae1f707d-5e3c-4685-9609-bb5a055e6e50",
   "metadata": {},
   "source": [
    "Then, solve the eigenvectors and eigenvalues problem."
   ]
  },
  {
   "cell_type": "code",
   "execution_count": 3,
   "id": "b6adf4aa-b44f-4673-9c59-4594dc39cbb3",
   "metadata": {
    "tags": []
   },
   "outputs": [],
   "source": [
    "n_components = 2\n",
    "\n",
    "A = np.linalg.inv(SW).dot(SB)\n",
    "\n",
    "# Get eigenvalues and eigenvectors of SW^-1 * SB\n",
    "eigenvalues, eigenvectors = np.linalg.eig(A)\n",
    "\n",
    "# sort eigenvalues high to low\n",
    "eigenvectors = eigenvectors.T\n",
    "idxs = np.argsort(abs(eigenvalues))[::-1]\n",
    "eigenvalues = eigenvalues[idxs]\n",
    "eigenvectors = eigenvectors[idxs]\n",
    "\n",
    "# store first n eigenvectors\n",
    "linear_discriminants = eigenvectors[0 : n_components]"
   ]
  },
  {
   "cell_type": "markdown",
   "id": "1da34d65-19e5-4fdb-83f4-77f641dd7192",
   "metadata": {},
   "source": [
    "And finally, project the data onto the lower-dimensional (2D) space."
   ]
  },
  {
   "cell_type": "code",
   "execution_count": 4,
   "id": "a60d2b52-8ac1-4ce0-b3ef-d36481cee9aa",
   "metadata": {
    "tags": []
   },
   "outputs": [
    {
     "data": {
      "image/png": "[encoded data removed]",
      "text/plain": [
       "<Figure size 640x480 with 1 Axes>"
      ]
     },
     "metadata": {},
     "output_type": "display_data"
    }
   ],
   "source": [
    "X_projected = np.dot(X, linear_discriminants.T)\n",
    "x1, x2 = X_projected[:, 0], X_projected[:, 1]\n",
    "\n",
    "plt.scatter(\n",
    "    x1, x2, c=y, edgecolor=\"none\", alpha=0.8\n",
    ")\n",
    "\n",
    "plt.xlabel(\"Linear Discriminant 1\")\n",
    "plt.ylabel(\"Linear Discriminant 2\")\n",
    "plt.show()"
   ]
  },
  {
   "cell_type": "markdown",
   "id": "e5d6a26e-1a30-4092-9a52-602ca3a19eca",
   "metadata": {},
   "source": [
    "# Advantages and Limitations\n",
    "\n",
    "Although an advantage of unsupervised dimension reduction techniques is that a target feature need not be chosen, an advantage of LDA, given a target variable, is the ability to target it and optimize class-separability. The linear combinations of LDA are easy to interpret compared to non-linear transformations, and linear methods are generally less compute-intensive than non-linear methods.\n",
    "\n",
    "However, the linear assumption presumes that the relationships between features are linear, and furthermore, we have an assumption of normality. LDA assumes all classes have the same covariance matrix, and is sensitive to outliers because it relies on mean and covariance estimates. Scalability for large datasets can be accomplished by computing the covariance matrix and solving the eigenvalue problem."
   ]
  },
  {
   "cell_type": "markdown",
   "id": "55d9b368-d544-4a79-908d-d63d701967fa",
   "metadata": {},
   "source": [
    "# Scikit-Learn Implementation Details\n",
    "\n",
    "<code>sklearn.discriminant_analysis.LinearDiscriminantAnalysis(solver='svd', shrinkage=None, priors=None, n_components=None, store_covariance=False, tol=0.0001, covariance_estimator=None)</code>\n",
    "\n",
    "## Parameters\n",
    "\n",
    "- <code>solver</code> (default='svd'): solver to use; possibilities include 'svd', which is recommended for a large number of features (as it gets to skip calculation of the covariance matrix), 'lsqr', a least-squares based implementation, and 'eigen', an eigendecomposition based solution.\n",
    "\n",
    "- <code>n_components</code> (default='all'): number of components for dimensionality reduction.\n",
    "\n",
    "## Attributes\n",
    "\n",
    "- <code>coef_</code>: weight vectors.\n",
    "- <code>intercept_</code>: intercept term.\n",
    "- <code>covariance_</code>: weighted within-class covariance matrix.\n",
    "- <code>explained_variance_ratio_</code>: percent of variances explained by each of the selected components.\n",
    "- <code>n_features_in_</code>: number of features seen during training.\n",
    "\n",
    "## Methods\n",
    "\n",
    "- <code>fit</code>: fit an instance of the model to the data.\n",
    "- <code>fit_transform</code>: fit an instance of the model to the data, and apply the dimensionality reduction to the data.\n",
    "- <code>predict</code>: predict class labels for samples in the data.\n",
    "- <code>predict_proba</code>: estimate probability."
   ]
  },
  {
   "cell_type": "markdown",
   "id": "2b520a4b-025d-40bb-b2f6-a9dff7f337c0",
   "metadata": {},
   "source": [
    "# References\n",
    "\n",
    "- Loebler, P. (n.d.). LDA (Linear Discriminant Analysis) In Python. Python Engineer. https://www.python-engineer.com/courses/mlfromscratch/14-lda/\n",
    "\n",
    "- Tharwat, A., Gaber, T., Ibrahim, A., & Hassanien, A. E. (2017). Linear Discriminant Analysis: A Detailed Tutorial. AI Communications. https://doi.org/10.3233/AIC-170729\n",
    "\n",
    "- Murphy, K. P. (2022). Probabilistic Machine Learning (2nd ed.). MIT Press. https://probml.github.io/pml-book/book1.html\n",
    "\n",
    "- (2021, May 2). Linear Discriminant Analysis in R. R-Bloggers. https://www.r-bloggers.com/2021/05/linear-discriminant-analysis-in-r/\n",
    "\n",
    "- Hastie, T., Tibshirani, R., & Friedman, J. (2017). Elements of Statistical Learning (2nd ed.). Springer. https://www.researchgate.net/publication/225734295_The_Elements_of_Statistical_Learning_Data_Mining_Inference_and_Prediction\n",
    "\n",
    "- Scikit-Learn (n.d.). Linear and Quadratic Discriminant Analysis. Scikit-Learn User Guide. https://scikit-learn.org/stable/modules/lda_qda.html#lda-qda\n",
    "\n",
    "- Khadka, N. (n.d.). Ultimate Guide to Linear Discriminant Analysis (LDA). https://dataaspirant.com/linear-discriminant-analysis/"
   ]
  }
 ],
 "metadata": {
  "kernelspec": {
   "display_name": "Python 3 (ipykernel)",
   "language": "python",
   "name": "python3"
  },
  "language_info": {
   "codemirror_mode": {
    "name": "ipython",
    "version": 3
   },
   "file_extension": ".py",
   "mimetype": "text/x-python",
   "name": "python",
   "nbconvert_exporter": "python",
   "pygments_lexer": "ipython3",
   "version": "3.11.5"
  }
 },
 "nbformat": 4,
 "nbformat_minor": 5
}
