{
 "cells": [
  {
   "cell_type": "markdown",
   "id": "b9b248fe-0b5e-41f1-b5e3-ecbe5a7a6563",
   "metadata": {},
   "source": [
    "# Dimension Reduction I: Eigendecomposition\n",
    "### Implemented in Python"
   ]
  },
  {
   "cell_type": "markdown",
   "id": "c64e9045-63bf-4c8e-b638-fc8430213459",
   "metadata": {},
   "source": [
    "<i>Patrick White</i></br>\n",
    "<i>Jan 06, 2025</i>"
   ]
  },
  {
   "cell_type": "markdown",
   "id": "019f4223-5858-4019-9962-8d7e620f41a4",
   "metadata": {},
   "source": [
    "<img src=\"img/dr1.png\" style=\"height: 450px; width:auto;\">"
   ]
  },
  {
   "cell_type": "markdown",
   "id": "3fb66238-164d-4b08-945e-33da13bdd241",
   "metadata": {},
   "source": [
    "# Outline\n",
    "\n",
    "- Introduction\n",
    "- What is Eigendecomposition?\n",
    "- Finding Eigenvalues\n",
    "- Finding Eigenvectors\n",
    "- Python Implementation\n",
    "- Numpy\n",
    "- Sympy\n",
    "- Scipy\n",
    "- Diagonalization\n",
    "- What’s Next?"
   ]
  },
  {
   "cell_type": "markdown",
   "id": "dd536fe3-128e-4068-b754-8bc2eb0b4418",
   "metadata": {},
   "source": [
    "# Introduction\n",
    "\n",
    "This is the first in a series of 7 articles about dimensionality reduction techniques. It discusses eigendecomposition, a prerequisite concept to understanding several of the techniques.\n",
    "\n",
    "- Part 1: Eigendecomposition\n",
    "- Part 2: Principal Components Analysis (PCA)\n",
    "- Part 3: Singular Value Decomposition (SVD)\n",
    "- Part 4: Linear Discriminant Analysis (LDA)\n",
    "- Part 5: Independent Component Analysis (ICA)\n",
    "- Part 6: t-Stochastic Neighbors Embedding (t-SNE)\n",
    "- Part 7: Uniform Manifold Approximation Projection (UMAP)\n",
    "\n",
    "These techniques can be used to extract and combine features, such as for the purposes of clustering and visualizing data in a lower-dimensional feature space."
   ]
  },
  {
   "cell_type": "markdown",
   "id": "366580bc-6dbc-4b44-ac64-e2e9fcbc03eb",
   "metadata": {},
   "source": [
    "# What is Eigendecomposition?\n",
    "\n",
    "Eigendecomposition is the process of finding the ‘characteristic components’, i.e., eigenvectors and eigenvalues, of a matrix, in order to express it in a more revealing form. The work ‘eigen’ is German for ‘characteristic’ or ‘own’. Eigenvectors and eigenvalues make many problems in science and engineering more tractable.\n",
    "\n",
    "Eigenvectors indicate directions that remain invariant to transformation, which reveals directions in which the transformation acts in a simple and predictable way. Eigenvalues indicate how much the vectors indicating these directions are scaled. Geometrically, the interpretation is that a matrix-vector multiplication can have the same effect as a scalar-vector multiplication, in that the vector is not rotated, just scaled.\n",
    "\n",
    "The fundamental eigenvalue equation gives us:\n",
    "\n",
    "$\\mathbf{Av} = \\lambda \\mathbf{v}$\n",
    "\n",
    "where $\\lambda$ is the scalar that acts just the same as matrix $\\mathbf{A}$ upon vector $\\mathbf{v}$.\n",
    "\n",
    "Statistically, the eigenvector with the largest eigenvalue will point in the direction of maximal variance, which on a 2D scatter plot would be the line of best fit."
   ]
  },
  {
   "cell_type": "markdown",
   "id": "feba4f5c-c154-4548-ada1-20cc79b9cab7",
   "metadata": {},
   "source": [
    "# Finding Eigenvalues\n",
    "\n",
    "The way to discover the eigenvalues of a matrix is to rewrite the fundamental eigenvalue equation so that we have some expression equal to the zeros vector.\n",
    "\n",
    "$\\mathbf{Av} = \\lambda \\mathbf{v} = \\mathbf{O}$\n",
    "\n",
    "To make this a valid operation, we'll insert an identity matrix before the vector $\\mathbf{v}$. We'll also factor the vector $\\mathbf{v}$ out of both terms on the left.\n",
    "\n",
    "$(\\mathbf{A} - \\lambda \\mathbf{I}) \\mathbf{v} = \\mathbf{O}$\n",
    "\n",
    "We'll ignore the trivial case where $\\mathbf{v} = \\mathbf{O}$.\n",
    "\n",
    "Any square matrix with a non-trivial null space is reduced rank, and a reduced-rank matrix has a determinant of 0, so the mechanism for finding eigenvalues is $|\\mathbf{A} - \\lambda \\mathbf{I}| = 0$.\n",
    "\n",
    "Let's consider the following matrix:\n",
    "\n",
    "$\n",
    "\\begin{bmatrix}\n",
    " 1 & 2 \\\\\n",
    " 2 & 1 \\\\\n",
    "\\end{bmatrix}\n",
    "$\n",
    "\n",
    "We'll shift matrix by $\\lambda \\cdot \\mathbf{I}$, which will consist of $\\lambda$ on the diagonal elements and zeros elsewhere. Thus, we'll shift the diagonal elements of the above matrix by $\\lambda$, and set the determinant equal to zero.\n",
    "\n",
    "Then, solve to get the eigenvalues.\n",
    "\n",
    "- $(1 - \\lambda)(1 - \\lambda) - (2)(2) = 0$\n",
    "\n",
    "- $\\lambda^2 - 2 \\lambda - 3 = 0$\n",
    "\n",
    "- $(\\lambda - 3)(\\lambda + 1) = 0$\n",
    "\n",
    "So $\\lambda_1 = 3$ and $\\lambda_2 = -1$."
   ]
  },
  {
   "cell_type": "markdown",
   "id": "6526bcc9-842d-4192-964c-1d88112e09d3",
   "metadata": {},
   "source": [
    "# Finding Eigenvectors\n",
    "\n",
    "Once you've identified the eigenvalues, shift the matrix by each −\\lambda_i and find a vector \\mathbf{v}_i in the null space of that shifted matrix. This can be written in two alternative ways:\n",
    "\n",
    "- $\\mathbf{v}_i \\in N(\\mathbf{A} - \\lambda_i ~\\mathbf{I})$\n",
    "\n",
    "- $(\\mathbf{A} - \\lambda_i \\mathbf{I}) ~\\mathbf{v}_i = \\mathbf{O}$\n",
    "\n",
    "Staying consistent with the above, we have the matrix\n",
    "\n",
    "$\\begin{bmatrix} 1 & 2 \\\\ 2 & 1 \\\\ \\end{bmatrix}$\n",
    "\n",
    "and eigenvalues $\\lambda_1 = 3$ and $\\lambda_2 = −1$. We'll shift the matrix by each $\\lambda$, and find a vector in the null space.\n",
    "\n",
    "- $\\begin{bmatrix} 1-3 & 2 \\\\ 2 & 1-3 \\\\ \\end{bmatrix} = \\begin{bmatrix} -2 & 2 \\\\ 2 & -2 \\\\ \\end{bmatrix}$\n",
    "\n",
    "- $\\begin{bmatrix} -2 & 2 \\\\ 2 & -2 \\\\ \\end{bmatrix} \\begin{bmatrix} 1 \\\\ 1 \\\\ \\end{bmatrix} = \\begin{bmatrix} 0 \\\\ 0 \\\\ \\end{bmatrix}$\n",
    "\n",
    "The first eigenvector, associated with $\\lambda_1 = 3$, is found to be $\\begin{bmatrix} 1 \\\\ 1 \\\\ \\end{bmatrix}$.\n",
    "\n",
    "We'll continue with finding the second eigenvector.\n",
    "\n",
    "- $\\begin{bmatrix} 1-(-1) & 2 \\\\ 2 & 1-(-1) \\\\ \\end{bmatrix} = \\begin{bmatrix} 2 & 2 \\\\ 2 & 2 \\\\ \\end{bmatrix}$\n",
    "\n",
    "- $\\begin{bmatrix} 2 & 2 \\\\ 2 & 2 \\\\ \\end{bmatrix} \\begin{bmatrix} -1 \\\\ 1 \\\\ \\end{bmatrix} = \\begin{bmatrix} 0 \\\\ 0 \\\\ \\end{bmatrix}$\n",
    "\n",
    "The second eigenvector, associated with $\\lambda_2 = -1$, is found to be $\\begin{bmatrix} -1 \\\\ 1 \\\\ \\end{bmatrix}$."
   ]
  },
  {
   "cell_type": "markdown",
   "id": "f944f2aa-7e93-444f-9af0-3a54e183762d",
   "metadata": {},
   "source": [
    "# Python Implementation"
   ]
  },
  {
   "cell_type": "markdown",
   "id": "7b8c4ed3-6eb7-41eb-824e-71e9fd9ea5f8",
   "metadata": {},
   "source": [
    "## Numpy\n",
    "\n",
    "Let’s let Python check our work above, first using what is perhaps the most popular implementation of eigendecomposition, <code>numpy.linalg.eig()</code>. We import the library, create the same matrix as used above, and then decompose it into eigenvectors and eigenvalues. The input argument is simply the matrix to decompose. Returned are two arrays, the first containing eigenvalues and the second containing eigenvectors."
   ]
  },
  {
   "cell_type": "code",
   "execution_count": 1,
   "id": "1f64c22e-bb0a-4585-8325-9136106bf7d4",
   "metadata": {},
   "outputs": [
    {
     "name": "stdout",
     "output_type": "stream",
     "text": [
      "eigenvalues:  [ 3. -1.]\n",
      "\n",
      "eigenvectors: \n",
      "[[ 0.70710678 -0.70710678]\n",
      " [ 0.70710678  0.70710678]]\n"
     ]
    }
   ],
   "source": [
    "import numpy as np\n",
    "\n",
    "A = np.array([[1,2], [2,1]])\n",
    "evals, evecs = np.linalg.eig(A)\n",
    "\n",
    "print('eigenvalues: ', evals)\n",
    "print('')\n",
    "print('eigenvectors: ')\n",
    "print(evecs)"
   ]
  },
  {
   "cell_type": "markdown",
   "id": "2d496e70-a0fa-44eb-a2b2-f14e7452c0a9",
   "metadata": {},
   "source": [
    "You might wonder if the output is sorted by eigenvalue, as this is commonly done when performing methods like PCA and SVD, and it is not clear from our problem what the behavior is. We can demonstrate using a different data matrix that the output is indeed not sorted by eigenvalue."
   ]
  },
  {
   "cell_type": "code",
   "execution_count": 2,
   "id": "322a87e6-ab5d-4a65-a7cc-ccd79c41a170",
   "metadata": {
    "tags": []
   },
   "outputs": [
    {
     "name": "stdout",
     "output_type": "stream",
     "text": [
      "eigenvalues:  [0.68337521 7.31662479]\n"
     ]
    }
   ],
   "source": [
    "A = np.array([[3, 5], [2, 5]])\n",
    "evals, evects = np.linalg.eig(A)\n",
    "\n",
    "print('eigenvalues: ', evals)"
   ]
  },
  {
   "cell_type": "markdown",
   "id": "24edf286-b64a-4783-9fe7-745d5940a025",
   "metadata": {},
   "source": [
    "What about the eigenvectors? What we arrived at mathematically were \n",
    "\n",
    "$\\begin{bmatrix} 1 \\\\ 1 \\\\ \\end{bmatrix}$ and $\\begin{bmatrix} -1 \\\\ 1 \\\\ \\end{bmatrix}$, \n",
    "\n",
    "but the Numpy function gave us \n",
    "\n",
    "$\\begin{bmatrix} 0.707.. \\\\ 0.707.. \\\\ \\end{bmatrix}$ and $\\begin{bmatrix} -0.707.. \\\\ 0.707.. \\\\ \\end{bmatrix}$. \n",
    "\n",
    "This is because Numpy normalizes the vectors to be unit length, since the eigenvalues provide the scaling information, and the eigenvectors are only meaningful in terms of direction. We can confirm this by dividing the results of the calculation by hand by the <code>numpy.linalg.norm()</code>."
   ]
  },
  {
   "cell_type": "code",
   "execution_count": 3,
   "id": "6b83b9d7-aaf8-4706-a8af-b00a649092ba",
   "metadata": {
    "tags": []
   },
   "outputs": [
    {
     "data": {
      "text/plain": [
       "array([[0.70710678],\n",
       "       [0.70710678]])"
      ]
     },
     "execution_count": 3,
     "metadata": {},
     "output_type": "execute_result"
    }
   ],
   "source": [
    "evec1 = np.array([[1], [1]])\n",
    "evec1 / np.linalg.norm(evec1)"
   ]
  },
  {
   "cell_type": "code",
   "execution_count": 4,
   "id": "52fa8281-6298-466d-bfdc-6743a4855fb5",
   "metadata": {
    "tags": []
   },
   "outputs": [
    {
     "data": {
      "text/plain": [
       "array([[-0.70710678],\n",
       "       [ 0.70710678]])"
      ]
     },
     "execution_count": 4,
     "metadata": {},
     "output_type": "execute_result"
    }
   ],
   "source": [
    "evec2 = np.array([[-1], [1]])\n",
    "evec2 / np.linalg.norm(evec2)"
   ]
  },
  {
   "cell_type": "markdown",
   "id": "a6fd24fa-630c-4e50-a70d-709266121552",
   "metadata": {},
   "source": [
    "## Sympy\n",
    "\n",
    "If you don't want to see normalized eigenvectors, you can go with the <code>eigenvects</code> function of the Sympy package. The output of this function is in the form <code>(eigenvalue, algebraic_multiplicity, [eigenvectors])</code>. \n",
    "\n",
    "Side note about the algebraic multiplicity (simply 1 below): this refers to the number of times $\\lambda$ appears as the root of the characteristic polynomial (the expression reflective of the determinant that we set to $0$). If the characteristic polynomial is $(\\lambda - 3)^2 (\\lambda - 5) = 0$, then the algebraic multiplicity of $\\lambda=3$ is $2$ because it appears twice in the factorization."
   ]
  },
  {
   "cell_type": "code",
   "execution_count": 5,
   "id": "5ec4365b-3962-4bf3-a58c-b1befeba759a",
   "metadata": {
    "tags": []
   },
   "outputs": [
    {
     "data": {
      "text/plain": [
       "[(-1,\n",
       "  1,\n",
       "  [Matrix([\n",
       "   [-1],\n",
       "   [ 1]])]),\n",
       " (3,\n",
       "  1,\n",
       "  [Matrix([\n",
       "   [1],\n",
       "   [1]])])]"
      ]
     },
     "execution_count": 5,
     "metadata": {},
     "output_type": "execute_result"
    }
   ],
   "source": [
    "import sympy as sp\n",
    "\n",
    "A = sp.Matrix([[1,2], [2,1]])\n",
    "A.eigenvects()"
   ]
  },
  {
   "cell_type": "markdown",
   "id": "d9506dbc-d55b-4498-b4f0-093bb88ec748",
   "metadata": {},
   "source": [
    "Note that the matrix had to be defined as a Sympy Matrix object rather than a list or a numpy array. It can be 'pretty-printed' by invoking the function used below."
   ]
  },
  {
   "cell_type": "code",
   "execution_count": 6,
   "id": "a1f9b641-2299-4c96-a0b3-2461b1dcb5cf",
   "metadata": {
    "tags": []
   },
   "outputs": [
    {
     "data": {
      "text/latex": [
       "$\\displaystyle \\left[ \\left( -1, \\  1, \\  \\left[ \\left[\\begin{matrix}-1\\\\1\\end{matrix}\\right]\\right]\\right), \\  \\left( 3, \\  1, \\  \\left[ \\left[\\begin{matrix}1\\\\1\\end{matrix}\\right]\\right]\\right)\\right]$"
      ],
      "text/plain": [
       "⎡⎛       ⎡⎡-1⎤⎤⎞  ⎛      ⎡⎡1⎤⎤⎞⎤\n",
       "⎢⎜-1, 1, ⎢⎢  ⎥⎥⎟, ⎜3, 1, ⎢⎢ ⎥⎥⎟⎥\n",
       "⎣⎝       ⎣⎣1 ⎦⎦⎠  ⎝      ⎣⎣1⎦⎦⎠⎦"
      ]
     },
     "execution_count": 6,
     "metadata": {},
     "output_type": "execute_result"
    }
   ],
   "source": [
    "sp.init_printing(use_unicode=True)\n",
    "A.eigenvects()"
   ]
  },
  {
   "cell_type": "markdown",
   "id": "15332e98-9cd0-4f99-b2ae-7dfc20ae12ec",
   "metadata": {},
   "source": [
    "## Scipy\n",
    "\n",
    "The Scipy implementation is similar to Numpy, however it includes the imaginary component of the eigenvalues by default. Though we haven't seen it thus far, eigenvalues can be complex-valued (and associated to complex-valued eigenvectors). Numpy includes the imaginary component only when it is non-zero, but Scipy's eigenvalues by default include the imaginary component of the number, ending with j."
   ]
  },
  {
   "cell_type": "code",
   "execution_count": 7,
   "id": "ae156cd9-4a0d-4bfb-ae14-075ba008aa2a",
   "metadata": {
    "tags": []
   },
   "outputs": [
    {
     "data": {
      "text/plain": [
       "(array([ 3.+0.j, -1.+0.j]),\n",
       " array([[ 0.70710678, -0.70710678],\n",
       "        [ 0.70710678,  0.70710678]]))"
      ]
     },
     "execution_count": 7,
     "metadata": {},
     "output_type": "execute_result"
    }
   ],
   "source": [
    "import scipy\n",
    "\n",
    "A = np.array([[1, 2], [2, 1]])\n",
    "scipy.linalg.eig(A)"
   ]
  },
  {
   "cell_type": "markdown",
   "id": "055755cf-9792-45e1-8e93-4348a23dcb85",
   "metadata": {},
   "source": [
    "You can see that Scipy, like Numpy, normalizes the eigenvectors."
   ]
  },
  {
   "cell_type": "markdown",
   "id": "0310fc91-c6ee-426c-ae90-4eb36f014e8e",
   "metadata": {},
   "source": [
    "# Diagonalization\n",
    "\n",
    "An $M \\times M$ matrix contains $M$ eigenvalues and $M$ associated eigenvectors.\n",
    "\n",
    "- $\\mathbf{Av}_1 = \\lambda_1 \\mathbf{v}_1$\n",
    "- $\\mathbf{Av}_2 = \\lambda_2 \\mathbf{v}_2$\n",
    "- $\\ldots$\n",
    "- $\\mathbf{Av}_m = \\lambda_m \\mathbf{v}_m$\n",
    "\n",
    "These equations can be more compactly represented by having each eigenvector be a column in a matrix, and having each eigenvalue be an element in a diagonal matrix.\n",
    "\n",
    "$\\mathbf{AV} = \\mathbf{V \\Lambda}$\n",
    "\n",
    "The reason it is $\\mathbf{V \\Lambda}$ and not $\\mathbf{\\Lambda V}$ is so the eigenvalues scale each column of the $\\mathbf{V}$ matrix, rather than each row.\n",
    "\n",
    "$\n",
    "\\begin{bmatrix} v_{11} & v_{21} & v_{31} \\\\ v_{12} & v_{22} & v_{32} \\\\ v_{13} & v_{23} & v_{33} \\\\ \\end{bmatrix} \\begin{bmatrix} \\lambda_1 & 0 & 0 \\\\ 0 & \\lambda_2 & 0 \\\\ 0 & 0 & \\lambda_3 \\\\\n",
    "\\end{bmatrix} = \\begin{bmatrix} \\lambda_1 v_{11} & \\lambda_2 v_{21} & \\lambda_3 v_{31} \\\\ \\lambda_1 v_{12} & \\lambda_2 v_{22} & \\lambda_3 v_{32} \\\\ \\lambda_1 v_{13} & \\lambda_2 v_{23} & \\lambda_3 v_{33} \\\\ \\end{bmatrix}\n",
    "$\n",
    "\n",
    "Normalizing the vectors of an eigenvectors matrix means that the product of that matrix and the same matrix transposed equal the identity matrix, $\\mathbf{V}^T \\mathbf{V} = \\mathbf{I}$, assuming the eigenvectors are of a symmetric matrix). And if $\\mathbf{V}^T \\mathbf{V} = \\mathbf{I}$, then $\\mathbf{V}^T = \\mathbf{V}^{-1}$. This gives us:\n",
    "\n",
    "$\\mathbf{A} = \\mathbf{V \\Lambda V}^{-1}$\n",
    "\n",
    "assuming that the columns of $\\mathbf{V}$ are linearly independent. \n",
    "\n",
    "This is an elegant and compact equation for eigendecomposition, but also provides conceptual insight. What we're saying is that every square matrix can be decomposed into three parts: 1) a diagonal matrix, 2) an eigenvectors matrix (set of rotations), and 3) the inverse of the eigenvectors matrix.\n",
    "\n",
    "Regarding symmetry, the properties of diagonalization work equally well for non-symmetric matrices, but a nice property of symmetric matrices is that we always get real-valued eigenvalues (which we'll focus on exclusively going forward).\n",
    "\n",
    "The below code illustrates how the original data matrix made square by multiplying by its transpose can be reconstructed from the matrices acquired by the decomposition. In other words, eigendecomposition is a lossless transformation."
   ]
  },
  {
   "cell_type": "code",
   "execution_count": 8,
   "id": "515b400e-67b7-4a6e-9118-7682ca8eeff4",
   "metadata": {},
   "outputs": [
    {
     "data": {
      "image/png": "[encoded data removed]",
      "text/plain": [
       "<Figure size 640x480 with 2 Axes>"
      ]
     },
     "metadata": {},
     "output_type": "display_data"
    }
   ],
   "source": [
    "import matplotlib.pyplot as plt\n",
    "\n",
    "# construct a random matrix\n",
    "A = np.random.randn(5,5)*10\n",
    "\n",
    "# multiply by transpose to make symmetrical\n",
    "ATA = A.T@A\n",
    "\n",
    "# get the eigenvalues and eigenvectors\n",
    "evals, evecs = np.linalg.eig(ATA)\n",
    "\n",
    "# reconstruct the matrix from its components\n",
    "recon = evecs @ np.diag(evals) @ np.linalg.inv(evecs)\n",
    "\n",
    "plt.subplot(121)\n",
    "plt.imshow(ATA)\n",
    "plt.axis('off')\n",
    "plt.title('$A^TA$')\n",
    "\n",
    "plt.subplot(122)\n",
    "plt.imshow(recon)\n",
    "plt.axis('off')\n",
    "plt.title('Reconstruction')\n",
    "\n",
    "plt.show()"
   ]
  },
  {
   "cell_type": "markdown",
   "id": "c86617f3-7a2a-4cc1-9814-2bedd8e41977",
   "metadata": {},
   "source": [
    "To prove that the two matrices above are identical, I'll subtract one from the other, resulting in zeros."
   ]
  },
  {
   "cell_type": "code",
   "execution_count": 9,
   "id": "3d8f6c9d-79d7-4474-b787-531079412ab2",
   "metadata": {},
   "outputs": [
    {
     "data": {
      "text/plain": [
       "array([[ 0., -0., -0., -0., -0.],\n",
       "       [-0., -0.,  0.,  0., -0.],\n",
       "       [-0.,  0., -0.,  0.,  0.],\n",
       "       [ 0.,  0., -0., -0.,  0.],\n",
       "       [-0., -0.,  0.,  0., -0.]])"
      ]
     },
     "execution_count": 9,
     "metadata": {},
     "output_type": "execute_result"
    }
   ],
   "source": [
    "# subtract the reconstruction from the original (should be zero)\n",
    "diff = ATA-recon\n",
    "np.round(diff,8)"
   ]
  },
  {
   "cell_type": "markdown",
   "id": "918f91eb-b391-4fc2-93c6-78970d36dc21",
   "metadata": {},
   "source": [
    "The below provides a visualization of the matrix decomposed, the eigenvectors matrix $V$, the diagonalized eigenvalues matrix $\\Lambda$, and the inverse of the eigenvectors matrix $V^{-1}$."
   ]
  },
  {
   "cell_type": "code",
   "execution_count": 10,
   "id": "85c02d45-a97b-4e11-b297-afe375304894",
   "metadata": {
    "tags": []
   },
   "outputs": [
    {
     "data": {
      "image/png": "[encoded data removed]",
      "text/plain": [
       "<Figure size 640x480 with 4 Axes>"
      ]
     },
     "metadata": {},
     "output_type": "display_data"
    }
   ],
   "source": [
    "D, V = np.linalg.eig(ATA)\n",
    "\n",
    "plt.subplot(141)\n",
    "plt.imshow(ATA)\n",
    "plt.title('$A^TA$')\n",
    "plt.axis('off')\n",
    "\n",
    "plt.subplot(142)\n",
    "plt.imshow(V)\n",
    "plt.title('V')\n",
    "plt.axis('off')\n",
    "\n",
    "plt.subplot(143)\n",
    "plt.imshow(np.diag(D))\n",
    "plt.title('$\\Lambda$')\n",
    "plt.axis('off')\n",
    "\n",
    "plt.subplot(144)\n",
    "plt.imshow(np.linalg.inv(V))\n",
    "plt.title('$V^{-1}$')\n",
    "plt.axis('off')\n",
    "\n",
    "plt.show()"
   ]
  },
  {
   "cell_type": "markdown",
   "id": "06ef04de-bb72-4fe8-9ada-e31dd221dfb0",
   "metadata": {
    "tags": []
   },
   "source": [
    "# What's Next?\n",
    "\n",
    "The next article in the series is on principal components analysis (PCA), which involves eigendecomposition upon a covariance matrix, and has some special properties, such as orthogonalizing components, and maximizing variance for each component under this constraint."
   ]
  },
  {
   "cell_type": "markdown",
   "id": "e84d4510-ffbf-40a7-b233-a4cdaf403238",
   "metadata": {},
   "source": [
    "# References\n",
    "\n",
    "- Cohen, M. X. (2021). Linear Algebra (1st ed.). SincXpress. \n",
    "https://sincxpress.com/books.html\n",
    "\n",
    "- Brownlee, J. (2019). Basics of Linear Algebra for Machine Learning (2nd ed.). Machine Learning Mastery. \n",
    "https://machinelearningmastery.com/linear_algebra_for_machine_learning/\n",
    "\n",
    "- Cohen, M. X. (2024, May 1). Complete linear algebra: Theory and implementation in code [Online Course]. Udemy. \n",
    "https://www.udemy.com/course/linear-algebra-theory-and-implementation/\n",
    "\n",
    "- Cohen, M. X. (2024, May 1). PCA & multivariate signal processing, applied to neural data [Online Course]. Udemy. \n",
    "https://www.udemy.com/course/dimension-reduction-and-source-separation-in-neuroscience/"
   ]
  }
 ],
 "metadata": {
  "kernelspec": {
   "display_name": "Python 3 (ipykernel)",
   "language": "python",
   "name": "python3"
  },
  "language_info": {
   "codemirror_mode": {
    "name": "ipython",
    "version": 3
   },
   "file_extension": ".py",
   "mimetype": "text/x-python",
   "name": "python",
   "nbconvert_exporter": "python",
   "pygments_lexer": "ipython3",
   "version": "3.11.5"
  }
 },
 "nbformat": 4,
 "nbformat_minor": 5
}
