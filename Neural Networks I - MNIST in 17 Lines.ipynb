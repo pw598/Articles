{
 "cells": [
  {
   "cell_type": "markdown",
   "id": "2f595f2b-1e2b-4d02-84d0-5c0e66bf9679",
   "metadata": {},
   "source": [
    "# Neural Networks I: MNIST in 17 Lines\n",
    "### Implemented in Python with Keras"
   ]
  },
  {
   "cell_type": "markdown",
   "id": "5d6c3fae-8f7b-4748-9242-5488a1c8d55e",
   "metadata": {},
   "source": [
    "<i>Patrick White</i></br>\n",
    "<i>Jan 04, 2025</i>"
   ]
  },
  {
   "cell_type": "markdown",
   "id": "c71c4647-0706-4749-b813-4755e9c2aeac",
   "metadata": {},
   "source": [
    "<img src=\"img/nn1.png\" style=\"height: 400px; width:auto;\">"
   ]
  },
  {
   "cell_type": "markdown",
   "id": "98f830cb-f974-4a5a-b97a-51d565b9a98a",
   "metadata": {
    "tags": []
   },
   "source": [
    "# Outline\n",
    "\n",
    "- Introduction\n",
    "- The MNIST Handwritten Digits Dataset\n",
    "- Preparing the Data\n",
    "- Model Definition\n",
    "- Training\n",
    "- Plotting Results\n",
    "- Making Predictions\n",
    "- The Strictly Necessary Lines of Code\n",
    "- What’s Next?"
   ]
  },
  {
   "cell_type": "markdown",
   "id": "10d6f545-7b38-43f7-baec-71bc876b1717",
   "metadata": {},
   "source": [
    "# Introduction\n",
    "\n",
    "Modern libraries like Keras make it very easy to build neural networks, regardless of whether you completely understand what is going on under the hood. While I will devote the next article to the inner workings, this first one will demonstrate that we can train a network to recognize handwritten digits using less than 20 lines of Python. There will be additional code along the way to preview the data, etc., but a code cell at the bottom comprises only the lines strictly necessary.\n",
    "\n",
    "A neural network is of course a computational model consisting of layers of interconnected nodes called neurons, where each node processes input data by applying a weighted sum and activation function to produce an output. They typically include an input layer, one or more hidden layers, and an output layer, and learn to recognize patterns in data by adjusting connection weights and biases, using algorithms like backpropagation and gradient descent."
   ]
  },
  {
   "cell_type": "markdown",
   "id": "053be2a9-9a13-40ab-b3b1-23296022f207",
   "metadata": {},
   "source": [
    "# The MNIST Handwritten Digits Dataset\n",
    "\n",
    "Interestingly, even the simple feedforward network (FFN) we’ll be using can handle image data (perhaps it will be more impressive when built from scratch next article); we do not need to rely on fancy architectures like the convolutional neural network (CNN). The parameters, i.e., weights and biases, create a representation of the relationships among pixels robust enough for the model to make soft (distributed) predictions about the image class label.\n",
    "\n",
    "The MNIST (handwritten digits) dataset is a cliche, but will make for clear demonstration. We can import it directly from Keras."
   ]
  },
  {
   "cell_type": "code",
   "execution_count": 1,
   "id": "1e854892-9489-426f-8788-f4ae9152201c",
   "metadata": {
    "tags": []
   },
   "outputs": [
    {
     "data": {
      "image/png": "[encoded data removed]",
      "text/plain": [
       "<Figure size 1600x600 with 20 Axes>"
      ]
     },
     "metadata": {},
     "output_type": "display_data"
    }
   ],
   "source": [
    "from keras.datasets import mnist\n",
    "import matplotlib.pyplot as plt\n",
    "\n",
    "X, y = mnist.load_data()\n",
    "\n",
    "fig, axes = plt.subplots(2, 10, figsize=(16, 6))\n",
    "for i in range(20):\n",
    "    axes[i//10, i %10].imshow(X[0][i], cmap='gray');\n",
    "    \n",
    "plt.tight_layout()"
   ]
  },
  {
   "cell_type": "markdown",
   "id": "939710f7-c26e-4618-965e-da9e7e00deed",
   "metadata": {},
   "source": [
    " "
   ]
  },
  {
   "cell_type": "markdown",
   "id": "be76953c-be81-4ef9-9b10-29da25781c81",
   "metadata": {},
   "source": [
    "# Prepare Data\n",
    "\n",
    "We load the data into a training set and test set, for both X and y.\n",
    "\n",
    "The X values are then flattened from a 28x28 pixel array to a one-dimensional array of 784 elements, as this matches the expected format of input to the network.\n",
    "\n",
    "The pixel values of black and white images range from 0 to 255, and scaling them is a good practice, so we will divide each value by 255."
   ]
  },
  {
   "cell_type": "code",
   "execution_count": 2,
   "id": "bad8f977-23b6-4a82-a07c-019bafe78df0",
   "metadata": {},
   "outputs": [],
   "source": [
    "((X_train, y_train), (X_test, y_test)) = mnist.load_data()\n",
    "X_train_reshaped = X_train.reshape((X_train.shape[0], 28 * 28 * 1)).astype(\"float32\") / 255.0\n",
    "X_test_reshaped = X_test.reshape((X_test.shape[0], 28 * 28 * 1)).astype(\"float32\") / 255.0"
   ]
  },
  {
   "cell_type": "markdown",
   "id": "0ae33bd5-688b-437c-b8df-4dc37b096243",
   "metadata": {},
   "source": [
    "Next, we transform the y values from a list of labels into a one-hot encoded array, as is expected for multi-class classification with a Keras model."
   ]
  },
  {
   "cell_type": "code",
   "execution_count": 3,
   "id": "fc9dd502-358e-470b-bb18-0303e3fcdcc3",
   "metadata": {
    "tags": []
   },
   "outputs": [
    {
     "data": {
      "text/plain": [
       "array([5, 0, 4, ..., 5, 6, 8], dtype=uint8)"
      ]
     },
     "execution_count": 3,
     "metadata": {},
     "output_type": "execute_result"
    }
   ],
   "source": [
    "y_train"
   ]
  },
  {
   "cell_type": "code",
   "execution_count": 4,
   "id": "2e97c0cb-c536-4ded-b162-735924ffb9b7",
   "metadata": {
    "tags": []
   },
   "outputs": [],
   "source": [
    "from sklearn.preprocessing import LabelBinarizer\n",
    "\n",
    "lb = LabelBinarizer()\n",
    "y_train = lb.fit_transform(y_train)\n",
    "y_test = lb.transform(y_test)"
   ]
  },
  {
   "cell_type": "code",
   "execution_count": 5,
   "id": "6e617d84-b0cf-460e-a3e9-dcf64615787a",
   "metadata": {
    "tags": []
   },
   "outputs": [
    {
     "data": {
      "text/plain": [
       "array([[0, 0, 0, ..., 0, 0, 0],\n",
       "       [1, 0, 0, ..., 0, 0, 0],\n",
       "       [0, 0, 0, ..., 0, 0, 0],\n",
       "       ...,\n",
       "       [0, 0, 0, ..., 0, 0, 0],\n",
       "       [0, 0, 0, ..., 0, 0, 0],\n",
       "       [0, 0, 0, ..., 0, 1, 0]])"
      ]
     },
     "execution_count": 5,
     "metadata": {},
     "output_type": "execute_result"
    }
   ],
   "source": [
    "y_train"
   ]
  },
  {
   "cell_type": "markdown",
   "id": "7fc7be31-13b3-468b-9bb2-8952042c0d43",
   "metadata": {},
   "source": [
    " "
   ]
  },
  {
   "cell_type": "markdown",
   "id": "71d83855-3391-4a6c-b9b6-ce6fa6d3b403",
   "metadata": {},
   "source": [
    "# Model Definition\n",
    "\n",
    "Next, we'll start creating and stacking layers. This involves importing the Sequential class (network) and the Dense class (layer) from Keras. The below has 3 layers including the output layer, with 256, 128, and 10 nodes (neurons) respectively. The input shape must match our data, which is 784x1, and the output shape should match the number of classes to choose from, which is 10. The 'activation' functions are discussed in the next article."
   ]
  },
  {
   "cell_type": "code",
   "execution_count": 6,
   "id": "8e59cdfe-933d-4eed-aaac-67ea801a430f",
   "metadata": {
    "tags": []
   },
   "outputs": [],
   "source": [
    "from keras.models import Sequential\n",
    "from keras.layers import Dense\n",
    "import warnings\n",
    "warnings.filterwarnings('ignore')\n",
    "\n",
    "model = Sequential()\n",
    "model.add(Dense(256, input_shape=(784,), activation=\"sigmoid\"))\n",
    "model.add(Dense(128, activation=\"sigmoid\"))\n",
    "model.add(Dense(10, activation=\"softmax\"))"
   ]
  },
  {
   "cell_type": "markdown",
   "id": "a0293fca-9415-4dca-bd14-2b31af715aba",
   "metadata": {},
   "source": [
    "We can use <code>model.summary()</code> to have Keras print a summary of the architecture."
   ]
  },
  {
   "cell_type": "code",
   "execution_count": 7,
   "id": "d6d9312d-1cff-46eb-80f2-c02c94597de3",
   "metadata": {
    "tags": []
   },
   "outputs": [
    {
     "data": {
      "text/html": [
       "<pre style=\"white-space:pre;overflow-x:auto;line-height:normal;font-family:Menlo,'DejaVu Sans Mono',consolas,'Courier New',monospace\"><span style=\"font-weight: bold\">Model: \"sequential\"</span>\n",
       "</pre>\n"
      ],
      "text/plain": [
       "\u001b[1mModel: \"sequential\"\u001b[0m\n"
      ]
     },
     "metadata": {},
     "output_type": "display_data"
    },
    {
     "data": {
      "text/html": [
       "<pre style=\"white-space:pre;overflow-x:auto;line-height:normal;font-family:Menlo,'DejaVu Sans Mono',consolas,'Courier New',monospace\">┏━━━━━━━━━━━━━━━━━━━━━━━━━━━━━━━━━┳━━━━━━━━━━━━━━━━━━━━━━━━┳━━━━━━━━━━━━━━━┓\n",
       "┃<span style=\"font-weight: bold\"> Layer (type)                    </span>┃<span style=\"font-weight: bold\"> Output Shape           </span>┃<span style=\"font-weight: bold\">       Param # </span>┃\n",
       "┡━━━━━━━━━━━━━━━━━━━━━━━━━━━━━━━━━╇━━━━━━━━━━━━━━━━━━━━━━━━╇━━━━━━━━━━━━━━━┩\n",
       "│ dense (<span style=\"color: #0087ff; text-decoration-color: #0087ff\">Dense</span>)                   │ (<span style=\"color: #00d7ff; text-decoration-color: #00d7ff\">None</span>, <span style=\"color: #00af00; text-decoration-color: #00af00\">256</span>)            │       <span style=\"color: #00af00; text-decoration-color: #00af00\">200,960</span> │\n",
       "├─────────────────────────────────┼────────────────────────┼───────────────┤\n",
       "│ dense_1 (<span style=\"color: #0087ff; text-decoration-color: #0087ff\">Dense</span>)                 │ (<span style=\"color: #00d7ff; text-decoration-color: #00d7ff\">None</span>, <span style=\"color: #00af00; text-decoration-color: #00af00\">128</span>)            │        <span style=\"color: #00af00; text-decoration-color: #00af00\">32,896</span> │\n",
       "├─────────────────────────────────┼────────────────────────┼───────────────┤\n",
       "│ dense_2 (<span style=\"color: #0087ff; text-decoration-color: #0087ff\">Dense</span>)                 │ (<span style=\"color: #00d7ff; text-decoration-color: #00d7ff\">None</span>, <span style=\"color: #00af00; text-decoration-color: #00af00\">10</span>)             │         <span style=\"color: #00af00; text-decoration-color: #00af00\">1,290</span> │\n",
       "└─────────────────────────────────┴────────────────────────┴───────────────┘\n",
       "</pre>\n"
      ],
      "text/plain": [
       "┏━━━━━━━━━━━━━━━━━━━━━━━━━━━━━━━━━┳━━━━━━━━━━━━━━━━━━━━━━━━┳━━━━━━━━━━━━━━━┓\n",
       "┃\u001b[1m \u001b[0m\u001b[1mLayer (type)                   \u001b[0m\u001b[1m \u001b[0m┃\u001b[1m \u001b[0m\u001b[1mOutput Shape          \u001b[0m\u001b[1m \u001b[0m┃\u001b[1m \u001b[0m\u001b[1m      Param #\u001b[0m\u001b[1m \u001b[0m┃\n",
       "┡━━━━━━━━━━━━━━━━━━━━━━━━━━━━━━━━━╇━━━━━━━━━━━━━━━━━━━━━━━━╇━━━━━━━━━━━━━━━┩\n",
       "│ dense (\u001b[38;5;33mDense\u001b[0m)                   │ (\u001b[38;5;45mNone\u001b[0m, \u001b[38;5;34m256\u001b[0m)            │       \u001b[38;5;34m200,960\u001b[0m │\n",
       "├─────────────────────────────────┼────────────────────────┼───────────────┤\n",
       "│ dense_1 (\u001b[38;5;33mDense\u001b[0m)                 │ (\u001b[38;5;45mNone\u001b[0m, \u001b[38;5;34m128\u001b[0m)            │        \u001b[38;5;34m32,896\u001b[0m │\n",
       "├─────────────────────────────────┼────────────────────────┼───────────────┤\n",
       "│ dense_2 (\u001b[38;5;33mDense\u001b[0m)                 │ (\u001b[38;5;45mNone\u001b[0m, \u001b[38;5;34m10\u001b[0m)             │         \u001b[38;5;34m1,290\u001b[0m │\n",
       "└─────────────────────────────────┴────────────────────────┴───────────────┘\n"
      ]
     },
     "metadata": {},
     "output_type": "display_data"
    },
    {
     "data": {
      "text/html": [
       "<pre style=\"white-space:pre;overflow-x:auto;line-height:normal;font-family:Menlo,'DejaVu Sans Mono',consolas,'Courier New',monospace\"><span style=\"font-weight: bold\"> Total params: </span><span style=\"color: #00af00; text-decoration-color: #00af00\">235,146</span> (918.54 KB)\n",
       "</pre>\n"
      ],
      "text/plain": [
       "\u001b[1m Total params: \u001b[0m\u001b[38;5;34m235,146\u001b[0m (918.54 KB)\n"
      ]
     },
     "metadata": {},
     "output_type": "display_data"
    },
    {
     "data": {
      "text/html": [
       "<pre style=\"white-space:pre;overflow-x:auto;line-height:normal;font-family:Menlo,'DejaVu Sans Mono',consolas,'Courier New',monospace\"><span style=\"font-weight: bold\"> Trainable params: </span><span style=\"color: #00af00; text-decoration-color: #00af00\">235,146</span> (918.54 KB)\n",
       "</pre>\n"
      ],
      "text/plain": [
       "\u001b[1m Trainable params: \u001b[0m\u001b[38;5;34m235,146\u001b[0m (918.54 KB)\n"
      ]
     },
     "metadata": {},
     "output_type": "display_data"
    },
    {
     "data": {
      "text/html": [
       "<pre style=\"white-space:pre;overflow-x:auto;line-height:normal;font-family:Menlo,'DejaVu Sans Mono',consolas,'Courier New',monospace\"><span style=\"font-weight: bold\"> Non-trainable params: </span><span style=\"color: #00af00; text-decoration-color: #00af00\">0</span> (0.00 B)\n",
       "</pre>\n"
      ],
      "text/plain": [
       "\u001b[1m Non-trainable params: \u001b[0m\u001b[38;5;34m0\u001b[0m (0.00 B)\n"
      ]
     },
     "metadata": {},
     "output_type": "display_data"
    }
   ],
   "source": [
    "model.summary()"
   ]
  },
  {
   "cell_type": "markdown",
   "id": "bd588550-01d1-44c0-99b5-65c9dd384aa9",
   "metadata": {},
   "source": [
    "# Training\n",
    "\n",
    "Certain training hyperparameters will need to be set, so we’ll introduce a few terms/concepts:\n",
    "\n",
    "- Stochastic Gradient Descent (SGD): Gradient descent is the method used to adjust weights based on error, and with the full training set, it is called batch gradient descent. With only a sample of data at a time, as is done more often for computational efficiency, it is called stochastic gradient descent, or mini-batch gradient descent. This is the method we will select for training.\n",
    "\n",
    "- Batch Size: When performing SGD, this is the size of the samples from the data.\n",
    "\n",
    "- Learning Rate: Updates to weights multiply the gradient of cost/loss against a step size factor known as the learning rate. A value like 0.1 or 0.01 is typical.\n",
    "\n",
    "- Epoch: Refers to one full pass through the data. We must set the number of training epochs, though we can also set early stopping to occur, if performance stops improving during training."
   ]
  },
  {
   "cell_type": "code",
   "execution_count": 8,
   "id": "f754361c-c39f-4f51-9c6f-41b05b911b10",
   "metadata": {
    "tags": []
   },
   "outputs": [
    {
     "name": "stdout",
     "output_type": "stream",
     "text": [
      "Epoch 1/50\n",
      "\u001b[1m469/469\u001b[0m \u001b[32m━━━━━━━━━━━━━━━━━━━━\u001b[0m\u001b[37m\u001b[0m \u001b[1m5s\u001b[0m 9ms/step - accuracy: 0.1470 - loss: 2.3099 - val_accuracy: 0.3155 - val_loss: 2.2364\n",
      "Epoch 2/50\n",
      "\u001b[1m469/469\u001b[0m \u001b[32m━━━━━━━━━━━━━━━━━━━━\u001b[0m\u001b[37m\u001b[0m \u001b[1m5s\u001b[0m 8ms/step - accuracy: 0.3444 - loss: 2.2190 - val_accuracy: 0.5237 - val_loss: 2.1528\n",
      "Epoch 3/50\n",
      "\u001b[1m469/469\u001b[0m \u001b[32m━━━━━━━━━━━━━━━━━━━━\u001b[0m\u001b[37m\u001b[0m \u001b[1m5s\u001b[0m 8ms/step - accuracy: 0.5102 - loss: 2.1316 - val_accuracy: 0.5935 - val_loss: 2.0378\n",
      "Epoch 4/50\n",
      "\u001b[1m469/469\u001b[0m \u001b[32m━━━━━━━━━━━━━━━━━━━━\u001b[0m\u001b[37m\u001b[0m \u001b[1m4s\u001b[0m 8ms/step - accuracy: 0.5584 - loss: 2.0075 - val_accuracy: 0.6131 - val_loss: 1.8733\n",
      "Epoch 5/50\n",
      "\u001b[1m469/469\u001b[0m \u001b[32m━━━━━━━━━━━━━━━━━━━━\u001b[0m\u001b[37m\u001b[0m \u001b[1m5s\u001b[0m 8ms/step - accuracy: 0.5906 - loss: 1.8343 - val_accuracy: 0.6723 - val_loss: 1.6664\n",
      "Epoch 6/50\n",
      "\u001b[1m469/469\u001b[0m \u001b[32m━━━━━━━━━━━━━━━━━━━━\u001b[0m\u001b[37m\u001b[0m \u001b[1m4s\u001b[0m 8ms/step - accuracy: 0.6493 - loss: 1.6306 - val_accuracy: 0.6911 - val_loss: 1.4518\n",
      "Epoch 7/50\n",
      "\u001b[1m469/469\u001b[0m \u001b[32m━━━━━━━━━━━━━━━━━━━━\u001b[0m\u001b[37m\u001b[0m \u001b[1m4s\u001b[0m 8ms/step - accuracy: 0.6965 - loss: 1.4215 - val_accuracy: 0.7349 - val_loss: 1.2609\n",
      "Epoch 8/50\n",
      "\u001b[1m469/469\u001b[0m \u001b[32m━━━━━━━━━━━━━━━━━━━━\u001b[0m\u001b[37m\u001b[0m \u001b[1m4s\u001b[0m 8ms/step - accuracy: 0.7374 - loss: 1.2386 - val_accuracy: 0.7714 - val_loss: 1.1039\n",
      "Epoch 9/50\n",
      "\u001b[1m469/469\u001b[0m \u001b[32m━━━━━━━━━━━━━━━━━━━━\u001b[0m\u001b[37m\u001b[0m \u001b[1m5s\u001b[0m 8ms/step - accuracy: 0.7646 - loss: 1.0945 - val_accuracy: 0.7919 - val_loss: 0.9804\n",
      "Epoch 10/50\n",
      "\u001b[1m469/469\u001b[0m \u001b[32m━━━━━━━━━━━━━━━━━━━━\u001b[0m\u001b[37m\u001b[0m \u001b[1m6s\u001b[0m 9ms/step - accuracy: 0.7859 - loss: 0.9726 - val_accuracy: 0.8002 - val_loss: 0.8827\n",
      "Epoch 11/50\n",
      "\u001b[1m469/469\u001b[0m \u001b[32m━━━━━━━━━━━━━━━━━━━━\u001b[0m\u001b[37m\u001b[0m \u001b[1m4s\u001b[0m 8ms/step - accuracy: 0.7948 - loss: 0.8800 - val_accuracy: 0.8143 - val_loss: 0.8051\n",
      "Epoch 12/50\n",
      "\u001b[1m469/469\u001b[0m \u001b[32m━━━━━━━━━━━━━━━━━━━━\u001b[0m\u001b[37m\u001b[0m \u001b[1m6s\u001b[0m 9ms/step - accuracy: 0.8079 - loss: 0.8061 - val_accuracy: 0.8234 - val_loss: 0.7424\n",
      "Epoch 13/50\n",
      "\u001b[1m469/469\u001b[0m \u001b[32m━━━━━━━━━━━━━━━━━━━━\u001b[0m\u001b[37m\u001b[0m \u001b[1m4s\u001b[0m 7ms/step - accuracy: 0.8183 - loss: 0.7482 - val_accuracy: 0.8317 - val_loss: 0.6899\n",
      "Epoch 14/50\n",
      "\u001b[1m469/469\u001b[0m \u001b[32m━━━━━━━━━━━━━━━━━━━━\u001b[0m\u001b[37m\u001b[0m \u001b[1m3s\u001b[0m 7ms/step - accuracy: 0.8251 - loss: 0.7003 - val_accuracy: 0.8408 - val_loss: 0.6466\n",
      "Epoch 15/50\n",
      "\u001b[1m469/469\u001b[0m \u001b[32m━━━━━━━━━━━━━━━━━━━━\u001b[0m\u001b[37m\u001b[0m \u001b[1m4s\u001b[0m 8ms/step - accuracy: 0.8366 - loss: 0.6574 - val_accuracy: 0.8460 - val_loss: 0.6102\n",
      "Epoch 16/50\n",
      "\u001b[1m469/469\u001b[0m \u001b[32m━━━━━━━━━━━━━━━━━━━━\u001b[0m\u001b[37m\u001b[0m \u001b[1m6s\u001b[0m 9ms/step - accuracy: 0.8448 - loss: 0.6167 - val_accuracy: 0.8533 - val_loss: 0.5794\n",
      "Epoch 17/50\n",
      "\u001b[1m469/469\u001b[0m \u001b[32m━━━━━━━━━━━━━━━━━━━━\u001b[0m\u001b[37m\u001b[0m \u001b[1m5s\u001b[0m 9ms/step - accuracy: 0.8500 - loss: 0.5915 - val_accuracy: 0.8579 - val_loss: 0.5521\n",
      "Epoch 18/50\n",
      "\u001b[1m469/469\u001b[0m \u001b[32m━━━━━━━━━━━━━━━━━━━━\u001b[0m\u001b[37m\u001b[0m \u001b[1m3s\u001b[0m 7ms/step - accuracy: 0.8538 - loss: 0.5652 - val_accuracy: 0.8630 - val_loss: 0.5289\n",
      "Epoch 19/50\n",
      "\u001b[1m469/469\u001b[0m \u001b[32m━━━━━━━━━━━━━━━━━━━━\u001b[0m\u001b[37m\u001b[0m \u001b[1m6s\u001b[0m 8ms/step - accuracy: 0.8591 - loss: 0.5401 - val_accuracy: 0.8691 - val_loss: 0.5078\n",
      "Epoch 20/50\n",
      "\u001b[1m469/469\u001b[0m \u001b[32m━━━━━━━━━━━━━━━━━━━━\u001b[0m\u001b[37m\u001b[0m \u001b[1m4s\u001b[0m 9ms/step - accuracy: 0.8628 - loss: 0.5223 - val_accuracy: 0.8735 - val_loss: 0.4904\n",
      "Epoch 21/50\n",
      "\u001b[1m469/469\u001b[0m \u001b[32m━━━━━━━━━━━━━━━━━━━━\u001b[0m\u001b[37m\u001b[0m \u001b[1m5s\u001b[0m 8ms/step - accuracy: 0.8682 - loss: 0.5020 - val_accuracy: 0.8757 - val_loss: 0.4741\n",
      "Epoch 22/50\n",
      "\u001b[1m469/469\u001b[0m \u001b[32m━━━━━━━━━━━━━━━━━━━━\u001b[0m\u001b[37m\u001b[0m \u001b[1m6s\u001b[0m 9ms/step - accuracy: 0.8719 - loss: 0.4875 - val_accuracy: 0.8799 - val_loss: 0.4593\n",
      "Epoch 23/50\n",
      "\u001b[1m469/469\u001b[0m \u001b[32m━━━━━━━━━━━━━━━━━━━━\u001b[0m\u001b[37m\u001b[0m \u001b[1m4s\u001b[0m 8ms/step - accuracy: 0.8740 - loss: 0.4783 - val_accuracy: 0.8824 - val_loss: 0.4465\n",
      "Epoch 24/50\n",
      "\u001b[1m469/469\u001b[0m \u001b[32m━━━━━━━━━━━━━━━━━━━━\u001b[0m\u001b[37m\u001b[0m \u001b[1m5s\u001b[0m 8ms/step - accuracy: 0.8760 - loss: 0.4641 - val_accuracy: 0.8850 - val_loss: 0.4348\n",
      "Epoch 25/50\n",
      "\u001b[1m469/469\u001b[0m \u001b[32m━━━━━━━━━━━━━━━━━━━━\u001b[0m\u001b[37m\u001b[0m \u001b[1m5s\u001b[0m 7ms/step - accuracy: 0.8785 - loss: 0.4540 - val_accuracy: 0.8878 - val_loss: 0.4242\n",
      "Epoch 26/50\n",
      "\u001b[1m469/469\u001b[0m \u001b[32m━━━━━━━━━━━━━━━━━━━━\u001b[0m\u001b[37m\u001b[0m \u001b[1m4s\u001b[0m 8ms/step - accuracy: 0.8827 - loss: 0.4393 - val_accuracy: 0.8888 - val_loss: 0.4152\n",
      "Epoch 27/50\n",
      "\u001b[1m469/469\u001b[0m \u001b[32m━━━━━━━━━━━━━━━━━━━━\u001b[0m\u001b[37m\u001b[0m \u001b[1m5s\u001b[0m 8ms/step - accuracy: 0.8856 - loss: 0.4292 - val_accuracy: 0.8897 - val_loss: 0.4061\n",
      "Epoch 28/50\n",
      "\u001b[1m469/469\u001b[0m \u001b[32m━━━━━━━━━━━━━━━━━━━━\u001b[0m\u001b[37m\u001b[0m \u001b[1m6s\u001b[0m 8ms/step - accuracy: 0.8857 - loss: 0.4201 - val_accuracy: 0.8913 - val_loss: 0.3983\n",
      "Epoch 29/50\n",
      "\u001b[1m469/469\u001b[0m \u001b[32m━━━━━━━━━━━━━━━━━━━━\u001b[0m\u001b[37m\u001b[0m \u001b[1m6s\u001b[0m 9ms/step - accuracy: 0.8856 - loss: 0.4169 - val_accuracy: 0.8922 - val_loss: 0.3913\n",
      "Epoch 30/50\n",
      "\u001b[1m469/469\u001b[0m \u001b[32m━━━━━━━━━━━━━━━━━━━━\u001b[0m\u001b[37m\u001b[0m \u001b[1m4s\u001b[0m 8ms/step - accuracy: 0.8913 - loss: 0.4032 - val_accuracy: 0.8942 - val_loss: 0.3851\n",
      "Epoch 31/50\n",
      "\u001b[1m469/469\u001b[0m \u001b[32m━━━━━━━━━━━━━━━━━━━━\u001b[0m\u001b[37m\u001b[0m \u001b[1m4s\u001b[0m 8ms/step - accuracy: 0.8915 - loss: 0.3992 - val_accuracy: 0.8942 - val_loss: 0.3783\n",
      "Epoch 32/50\n",
      "\u001b[1m469/469\u001b[0m \u001b[32m━━━━━━━━━━━━━━━━━━━━\u001b[0m\u001b[37m\u001b[0m \u001b[1m4s\u001b[0m 8ms/step - accuracy: 0.8907 - loss: 0.3953 - val_accuracy: 0.8966 - val_loss: 0.3734\n",
      "Epoch 33/50\n",
      "\u001b[1m469/469\u001b[0m \u001b[32m━━━━━━━━━━━━━━━━━━━━\u001b[0m\u001b[37m\u001b[0m \u001b[1m4s\u001b[0m 8ms/step - accuracy: 0.8916 - loss: 0.3907 - val_accuracy: 0.8978 - val_loss: 0.3680\n",
      "Epoch 34/50\n",
      "\u001b[1m469/469\u001b[0m \u001b[32m━━━━━━━━━━━━━━━━━━━━\u001b[0m\u001b[37m\u001b[0m \u001b[1m4s\u001b[0m 8ms/step - accuracy: 0.8918 - loss: 0.3837 - val_accuracy: 0.8984 - val_loss: 0.3632\n",
      "Epoch 35/50\n",
      "\u001b[1m469/469\u001b[0m \u001b[32m━━━━━━━━━━━━━━━━━━━━\u001b[0m\u001b[37m\u001b[0m \u001b[1m5s\u001b[0m 8ms/step - accuracy: 0.8927 - loss: 0.3834 - val_accuracy: 0.9001 - val_loss: 0.3590\n",
      "Epoch 36/50\n",
      "\u001b[1m469/469\u001b[0m \u001b[32m━━━━━━━━━━━━━━━━━━━━\u001b[0m\u001b[37m\u001b[0m \u001b[1m5s\u001b[0m 8ms/step - accuracy: 0.8961 - loss: 0.3767 - val_accuracy: 0.9009 - val_loss: 0.3549\n",
      "Epoch 37/50\n",
      "\u001b[1m469/469\u001b[0m \u001b[32m━━━━━━━━━━━━━━━━━━━━\u001b[0m\u001b[37m\u001b[0m \u001b[1m5s\u001b[0m 9ms/step - accuracy: 0.8965 - loss: 0.3731 - val_accuracy: 0.9016 - val_loss: 0.3505\n",
      "Epoch 38/50\n",
      "\u001b[1m469/469\u001b[0m \u001b[32m━━━━━━━━━━━━━━━━━━━━\u001b[0m\u001b[37m\u001b[0m \u001b[1m4s\u001b[0m 9ms/step - accuracy: 0.8970 - loss: 0.3666 - val_accuracy: 0.9031 - val_loss: 0.3471\n",
      "Epoch 39/50\n",
      "\u001b[1m469/469\u001b[0m \u001b[32m━━━━━━━━━━━━━━━━━━━━\u001b[0m\u001b[37m\u001b[0m \u001b[1m4s\u001b[0m 8ms/step - accuracy: 0.8991 - loss: 0.3611 - val_accuracy: 0.9028 - val_loss: 0.3434\n",
      "Epoch 40/50\n",
      "\u001b[1m469/469\u001b[0m \u001b[32m━━━━━━━━━━━━━━━━━━━━\u001b[0m\u001b[37m\u001b[0m \u001b[1m6s\u001b[0m 8ms/step - accuracy: 0.8991 - loss: 0.3563 - val_accuracy: 0.9039 - val_loss: 0.3404\n",
      "Epoch 41/50\n",
      "\u001b[1m469/469\u001b[0m \u001b[32m━━━━━━━━━━━━━━━━━━━━\u001b[0m\u001b[37m\u001b[0m \u001b[1m5s\u001b[0m 8ms/step - accuracy: 0.8986 - loss: 0.3579 - val_accuracy: 0.9049 - val_loss: 0.3370\n",
      "Epoch 42/50\n",
      "\u001b[1m469/469\u001b[0m \u001b[32m━━━━━━━━━━━━━━━━━━━━\u001b[0m\u001b[37m\u001b[0m \u001b[1m4s\u001b[0m 8ms/step - accuracy: 0.9006 - loss: 0.3518 - val_accuracy: 0.9054 - val_loss: 0.3348\n",
      "Epoch 43/50\n",
      "\u001b[1m469/469\u001b[0m \u001b[32m━━━━━━━━━━━━━━━━━━━━\u001b[0m\u001b[37m\u001b[0m \u001b[1m5s\u001b[0m 8ms/step - accuracy: 0.9036 - loss: 0.3473 - val_accuracy: 0.9063 - val_loss: 0.3316\n",
      "Epoch 44/50\n",
      "\u001b[1m469/469\u001b[0m \u001b[32m━━━━━━━━━━━━━━━━━━━━\u001b[0m\u001b[37m\u001b[0m \u001b[1m4s\u001b[0m 8ms/step - accuracy: 0.9008 - loss: 0.3466 - val_accuracy: 0.9056 - val_loss: 0.3292\n",
      "Epoch 45/50\n",
      "\u001b[1m469/469\u001b[0m \u001b[32m━━━━━━━━━━━━━━━━━━━━\u001b[0m\u001b[37m\u001b[0m \u001b[1m5s\u001b[0m 8ms/step - accuracy: 0.9014 - loss: 0.3481 - val_accuracy: 0.9077 - val_loss: 0.3265\n",
      "Epoch 46/50\n",
      "\u001b[1m469/469\u001b[0m \u001b[32m━━━━━━━━━━━━━━━━━━━━\u001b[0m\u001b[37m\u001b[0m \u001b[1m5s\u001b[0m 8ms/step - accuracy: 0.9023 - loss: 0.3410 - val_accuracy: 0.9088 - val_loss: 0.3243\n",
      "Epoch 47/50\n",
      "\u001b[1m469/469\u001b[0m \u001b[32m━━━━━━━━━━━━━━━━━━━━\u001b[0m\u001b[37m\u001b[0m \u001b[1m5s\u001b[0m 8ms/step - accuracy: 0.9025 - loss: 0.3401 - val_accuracy: 0.9085 - val_loss: 0.3221\n",
      "Epoch 48/50\n",
      "\u001b[1m469/469\u001b[0m \u001b[32m━━━━━━━━━━━━━━━━━━━━\u001b[0m\u001b[37m\u001b[0m \u001b[1m5s\u001b[0m 8ms/step - accuracy: 0.9038 - loss: 0.3386 - val_accuracy: 0.9090 - val_loss: 0.3205\n",
      "Epoch 49/50\n",
      "\u001b[1m469/469\u001b[0m \u001b[32m━━━━━━━━━━━━━━━━━━━━\u001b[0m\u001b[37m\u001b[0m \u001b[1m4s\u001b[0m 7ms/step - accuracy: 0.9046 - loss: 0.3337 - val_accuracy: 0.9103 - val_loss: 0.3175\n",
      "Epoch 50/50\n",
      "\u001b[1m469/469\u001b[0m \u001b[32m━━━━━━━━━━━━━━━━━━━━\u001b[0m\u001b[37m\u001b[0m \u001b[1m4s\u001b[0m 8ms/step - accuracy: 0.9050 - loss: 0.3290 - val_accuracy: 0.9106 - val_loss: 0.3153\n"
     ]
    }
   ],
   "source": [
    "from numpy.random import seed\n",
    "from keras.optimizers import SGD\n",
    "\n",
    "seed(123)\n",
    "sgd = SGD(learning_rate = 0.01)\n",
    "model.compile(loss=\"categorical_crossentropy\", optimizer=sgd, metrics=[\"accuracy\"])\n",
    "history = model.fit(X_train_reshaped, y_train, validation_data=(X_test_reshaped, y_test), epochs=50, batch_size=128)"
   ]
  },
  {
   "cell_type": "markdown",
   "id": "d9bced19-e6ac-4327-af50-6c20fb8c93b4",
   "metadata": {},
   "source": [
    "## Plotting Results"
   ]
  },
  {
   "cell_type": "markdown",
   "id": "07dce352-1518-436e-bda3-7d2c74805968",
   "metadata": {},
   "source": [
    "### Loss"
   ]
  },
  {
   "cell_type": "markdown",
   "id": "015735da-6222-461a-8ce8-7b21e6ab02b5",
   "metadata": {},
   "source": [
    "Below plots the loss of the training set and validation set at each epoch during training. We see that the network avoids overfitting, which is when the loss of the training set continues to decline without a corresponding effect on the loss of the validation set."
   ]
  },
  {
   "cell_type": "code",
   "execution_count": 9,
   "id": "c01879e8-3df4-413a-a0b9-3b6194d765f1",
   "metadata": {
    "tags": []
   },
   "outputs": [
    {
     "data": {
      "image/png": "[encoded data removed]",
      "text/plain": [
       "<Figure size 640x480 with 1 Axes>"
      ]
     },
     "metadata": {},
     "output_type": "display_data"
    }
   ],
   "source": [
    "plt.plot(history.history['loss'])\n",
    "plt.plot(history.history['val_loss'])\n",
    "plt.legend(['loss', 'val_loss'])\n",
    "plt.show()"
   ]
  },
  {
   "cell_type": "markdown",
   "id": "b2b1bf75-b01e-4a2f-89c1-4afafdbe46f1",
   "metadata": {},
   "source": [
    "### Accuracy"
   ]
  },
  {
   "cell_type": "markdown",
   "id": "0ad5d774-6341-46e6-8f57-f70e75c40d24",
   "metadata": {},
   "source": [
    "However, in plotting the accuracy, we see that it plateaus around 90%, and state of the art models on this dataset are capable of doing much better."
   ]
  },
  {
   "cell_type": "code",
   "execution_count": 10,
   "id": "0c246af3-b56d-4a42-847c-431069f35898",
   "metadata": {
    "tags": []
   },
   "outputs": [
    {
     "data": {
      "image/png": "[encoded data removed]",
      "text/plain": [
       "<Figure size 640x480 with 1 Axes>"
      ]
     },
     "metadata": {},
     "output_type": "display_data"
    }
   ],
   "source": [
    "plt.plot(history.history['accuracy'])\n",
    "plt.plot(history.history['val_accuracy'])\n",
    "plt.legend(['accuracy', 'val_accuracy'])\n",
    "plt.show()"
   ]
  },
  {
   "cell_type": "markdown",
   "id": "3bacd4b9-5fed-4677-919f-c09f2c586b5c",
   "metadata": {},
   "source": [
    "## Making Predictions"
   ]
  },
  {
   "cell_type": "markdown",
   "id": "76d83d5d-76e5-4ab3-bae4-6a420598d938",
   "metadata": {},
   "source": [
    "With the model trained, we can make predictions using the <code>model.predict</code> method. We'll use the first instance of the test set as an example."
   ]
  },
  {
   "cell_type": "code",
   "execution_count": 11,
   "id": "88b7f0ad-d5a1-4392-a194-1ee49f51389c",
   "metadata": {
    "tags": []
   },
   "outputs": [
    {
     "name": "stdout",
     "output_type": "stream",
     "text": [
      "\u001b[1m1/1\u001b[0m \u001b[32m━━━━━━━━━━━━━━━━━━━━\u001b[0m\u001b[37m\u001b[0m \u001b[1m0s\u001b[0m 92ms/step\n"
     ]
    },
    {
     "data": {
      "text/plain": [
       "array([[2.6546884e-04, 1.7361374e-06, 2.3686346e-04, 1.8535842e-03,\n",
       "        6.5393547e-06, 1.2480875e-04, 1.8131367e-07, 9.9351281e-01,\n",
       "        3.0429406e-05, 3.9675962e-03]], dtype=float32)"
      ]
     },
     "execution_count": 11,
     "metadata": {},
     "output_type": "execute_result"
    }
   ],
   "source": [
    "test_pred = model.predict(X_test_reshaped[0:1])\n",
    "test_pred"
   ]
  },
  {
   "cell_type": "markdown",
   "id": "e45dc37c-37b6-4615-b118-2fd7b9f46a06",
   "metadata": {},
   "source": [
    " "
   ]
  },
  {
   "cell_type": "markdown",
   "id": "dd3485bf-21f8-4e88-a0ba-4b61f4c62da8",
   "metadata": {
    "tags": []
   },
   "source": [
    "It outputs an array of 10 probability-like values, one for each class label, which are between 0 and 1, and sum to 1. Below is a bar-plot of these values."
   ]
  },
  {
   "cell_type": "code",
   "execution_count": 12,
   "id": "259d1afd-1589-4363-86e2-fa0eed8d24c1",
   "metadata": {
    "tags": []
   },
   "outputs": [
    {
     "data": {
      "image/png": "[encoded data removed]",
      "text/plain": [
       "<Figure size 640x480 with 1 Axes>"
      ]
     },
     "metadata": {},
     "output_type": "display_data"
    }
   ],
   "source": [
    "plt.bar(range(0,10),test_pred[0]);"
   ]
  },
  {
   "cell_type": "markdown",
   "id": "5bdfa33c-84bd-4760-8ae7-5aaa4bcc4a23",
   "metadata": {},
   "source": [
    "The plot makes it clear which class label is favored as the prediction. We can also use the <code>argmax()</code> function to extract the index associated with this value."
   ]
  },
  {
   "cell_type": "code",
   "execution_count": 13,
   "id": "0fed864d-e71b-4425-9873-cc6c333f3bba",
   "metadata": {
    "tags": []
   },
   "outputs": [
    {
     "data": {
      "text/plain": [
       "7"
      ]
     },
     "execution_count": 13,
     "metadata": {},
     "output_type": "execute_result"
    }
   ],
   "source": [
    "test_pred[0].argmax()"
   ]
  },
  {
   "cell_type": "markdown",
   "id": "f5e614ef-868f-4b87-9093-5acab848680b",
   "metadata": {},
   "source": [
    "Taking the argmax of <code>y_test[0]</code> to compare, we see that the prediction is correct."
   ]
  },
  {
   "cell_type": "code",
   "execution_count": 14,
   "id": "5f1468da-0397-4470-8f71-46bf328e38cc",
   "metadata": {
    "tags": []
   },
   "outputs": [
    {
     "data": {
      "text/plain": [
       "7"
      ]
     },
     "execution_count": 14,
     "metadata": {},
     "output_type": "execute_result"
    }
   ],
   "source": [
    "y_test[0].argmax()"
   ]
  },
  {
   "cell_type": "markdown",
   "id": "ab13b7e9-b60f-4856-a038-f9f8c3046210",
   "metadata": {},
   "source": [
    "And we can further verify by checking the image."
   ]
  },
  {
   "cell_type": "code",
   "execution_count": 15,
   "id": "d2622084-66d6-4181-9e1d-65e72ff56e10",
   "metadata": {
    "tags": []
   },
   "outputs": [
    {
     "data": {
      "image/png": "[encoded data removed]",
      "text/plain": [
       "<Figure size 300x300 with 1 Axes>"
      ]
     },
     "metadata": {},
     "output_type": "display_data"
    }
   ],
   "source": [
    "plt.figure(figsize = (3,3))\n",
    "plt.imshow(X_test[0]);"
   ]
  },
  {
   "cell_type": "markdown",
   "id": "bbfbfeeb-5e67-4d3f-a4d3-6c9b515733b7",
   "metadata": {},
   "source": [
    " "
   ]
  },
  {
   "cell_type": "markdown",
   "id": "15128884-fbf2-44b9-9b28-0c168ddc3f45",
   "metadata": {},
   "source": [
    "## The Strictly Necessary Lines of Code"
   ]
  },
  {
   "cell_type": "markdown",
   "id": "e1567366-3f5f-4e35-b415-b195def89eda",
   "metadata": {},
   "source": [
    "As promised, below are the necessary 17 lines of code to import the libraries and data, define the network, and train it to make predictions."
   ]
  },
  {
   "cell_type": "code",
   "execution_count": null,
   "id": "c2dc11e9-09e3-4611-bb1b-b5c669a5ce3a",
   "metadata": {
    "tags": []
   },
   "outputs": [],
   "source": [
    "from keras.datasets import mnist\n",
    "from sklearn.preprocessing import LabelBinarizer\n",
    "from keras.models import Sequential\n",
    "from keras.layers import Dense\n",
    "from keras.optimizers import SGD\n",
    "\n",
    "((X_train, y_train), (X_test, y_test)) = mnist.load_data()\n",
    "X_train_reshaped = X_train.reshape((X_train.shape[0], 28 * 28 * 1)).astype(\"float32\") / 255.0\n",
    "X_test_reshaped = X_test.reshape((X_test.shape[0], 28 * 28 * 1)).astype(\"float32\") / 255.0\n",
    "\n",
    "lb = LabelBinarizer()\n",
    "y_train, y_test = lb.fit_transform(y_train), lb.transform(y_test)\n",
    "\n",
    "model = Sequential()\n",
    "model.add(Dense(256, input_shape=(784,), activation=\"sigmoid\"))\n",
    "model.add(Dense(128, activation=\"sigmoid\"))\n",
    "model.add(Dense(10, activation=\"softmax\"))\n",
    "\n",
    "sgd = SGD(learning_rate = 0.01)\n",
    "model.compile(loss=\"categorical_crossentropy\", optimizer=sgd, metrics=[\"accuracy\"])\n",
    "history = model.fit(X_train_reshaped, y_train, validation_data=(X_test_reshaped, y_test), epochs=50, batch_size=128)"
   ]
  },
  {
   "cell_type": "markdown",
   "id": "9c3cc403-134c-4604-a273-7656daa991e8",
   "metadata": {},
   "source": [
    " "
   ]
  },
  {
   "cell_type": "markdown",
   "id": "5491b6a7-2ab0-4a71-b1e1-ba61ad965625",
   "metadata": {},
   "source": [
    "# What’s Next?\n",
    "\n",
    "Next article gets much more in-depth, and goes to the other extreme of complexity, by building a neural network from scratch. The article following that one gets into hyperparameter tuning."
   ]
  },
  {
   "cell_type": "markdown",
   "id": "717ed923-10bc-4acc-a43b-149fa0cb7513",
   "metadata": {},
   "source": [
    "# References\n",
    "\n",
    "- Brownlee, J. (2021). Better Deep Learning (1st ed.). Machine Learning Mastery. https://machinelearningmastery.com/better-deep-learning/\n",
    "\n",
    "- Nielsen, M. (2018). Neural Networks and Deep Learning. \n",
    "http://neuralnetworksanddeeplearning.com/index.html\n",
    "\n",
    "- Sanderson, G. (2017). Neural Networks. 3Blue1Brown. https://www.3blue1brown.com/topics/neural-networks\n",
    "\n",
    "- Ian Goodfellow, Yoshua Bengio, and Aaron Courville. Deep Learning. MIT Press, 2016. https://www.deeplearningbook.org/\n",
    "\n",
    "- Cohen, M. X. (2024). A deep understanding of deep learning [Online Video]. Udemy. https://www.udemy.com/course/deeplearning_x"
   ]
  }
 ],
 "metadata": {
  "kernelspec": {
   "display_name": "Python 3 (ipykernel)",
   "language": "python",
   "name": "python3"
  },
  "language_info": {
   "codemirror_mode": {
    "name": "ipython",
    "version": 3
   },
   "file_extension": ".py",
   "mimetype": "text/x-python",
   "name": "python",
   "nbconvert_exporter": "python",
   "pygments_lexer": "ipython3",
   "version": "3.11.5"
  }
 },
 "nbformat": 4,
 "nbformat_minor": 5
}
