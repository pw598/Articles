{
 "cells": [
  {
   "cell_type": "markdown",
   "id": "88da2b38-213d-4c4f-890f-bffb63dab238",
   "metadata": {
    "id": "88da2b38-213d-4c4f-890f-bffb63dab238"
   },
   "source": [
    "# Differential Equations I: Ordinary Differential Equations (ODEs)\n",
    "### <i>with Code in Python and R</i>"
   ]
  },
  {
   "cell_type": "markdown",
   "id": "908f9d5c-6a77-4cee-bb5d-f5e3573c8169",
   "metadata": {
    "id": "908f9d5c-6a77-4cee-bb5d-f5e3573c8169",
    "tags": []
   },
   "source": [
    "<i>Patrick White</i></br>\n",
    "<i>Dec 08, 2024</i>"
   ]
  },
  {
   "cell_type": "markdown",
   "id": "0e8a19b1-2e40-476a-80f5-3006abbd3f0e",
   "metadata": {
    "id": "0e8a19b1-2e40-476a-80f5-3006abbd3f0e",
    "tags": []
   },
   "source": [
    "<img src=\"img/de1.png\" style=\"height: 400px; width:auto;\">"
   ]
  },
  {
   "cell_type": "markdown",
   "id": "16fa2c44-1d2b-40d4-a01b-4a9b90d147f8",
   "metadata": {
    "id": "16fa2c44-1d2b-40d4-a01b-4a9b90d147f8"
   },
   "source": [
    "# Outline\n",
    "\n",
    "<ul>\n",
    "<li>What are Differential Equations?</li>\n",
    "<li>Examples of ODEs</li>\n",
    "<ul>\n",
    "<li>Gas Molecules Leaking from a Container</li>\n",
    "<li>Logistic Growth Equation</li>\n",
    "<li>Predator-Prey Population Dynamics</li>\n",
    "<li>Outbreak Modeling</li>\n",
    "</ul>\n",
    "<li>Logistic Growth Equation in Python and R</li>\n",
    "<ul>\n",
    "<li>Python</li>\n",
    "<li>R</li>\n",
    "</ul>\n",
    "<li>What’s Next?</li>\n",
    "</ul>"
   ]
  },
  {
   "cell_type": "markdown",
   "id": "3d3c1377-7aad-489b-a3ea-3a1cbcdce4df",
   "metadata": {
    "id": "3d3c1377-7aad-489b-a3ea-3a1cbcdce4df"
   },
   "source": [
    "# What are Differential Equations?\n",
    "\n",
    "A differential equation is an equation that associates a function with its derivatives, or is affected by the derivatives of one or more functions. They arise when it is easier to describe change than absolute amounts. An ordinary differential equation (ODE) relates a function to its own derivatives with respect to a single variable, and a partial differential equation (PDE) relates a multivariate function to its partial derivatives. The ‘order’ of the differential equation is determined by the highest-order derivative.\n",
    "\n",
    "The simplest ODE one could construct is $y’ = f(x)$. Solving for $y$ is the problem of integrating $f$ (differential equations generalize integration). If $F$ is an antiderivative of $f$, any other antiderivative of $f$ is given by $F(x)+C$, where $C$ is an arbitrary constant.\n",
    "\n",
    "$y(x) = F(x) + C$\n",
    "\n",
    "$y(x) = \\displaystyle \\int f(x) ~dx + C$\n",
    "\n",
    "The fundamental theorem of calculus tells us that:\n",
    "\n",
    "$y(x) - y(x_0) = \\displaystyle \\int_0^x y'(t) ~dt = \\displaystyle \\int_{x_0}^x f(t) ~dt$\n",
    "\n",
    "For a certain class of ODEs, initial value problems, the initial value is sufficient to find a unique particular solution. In finite difference methods, we simply discretize to solve continuous problems."
   ]
  },
  {
   "cell_type": "markdown",
   "id": "4baae1ac-4736-4b9a-8cb9-bfc42c939f65",
   "metadata": {
    "id": "4baae1ac-4736-4b9a-8cb9-bfc42c939f65"
   },
   "source": [
    "# Examples of ODEs"
   ]
  },
  {
   "cell_type": "markdown",
   "id": "c8547a93-434c-46b8-8e1c-7b99d8d9f9a8",
   "metadata": {
    "id": "c8547a93-434c-46b8-8e1c-7b99d8d9f9a8"
   },
   "source": [
    "### Gas Molecules Leaking from a Container\n",
    "\n",
    "Though more sophisticated alternatives exist, a simple way to describe the number of gas molecules leaking from a container is:\n",
    "    \n",
    "$\\frac{dy}{dt} = -ky(t)$\n",
    "\n",
    "- $y(t)$ represents the amount of gas (or pressure) inside the container.\n",
    "\n",
    "- $\\frac{dy}{dt}$ is the rate of change, which is proportional to the amount of gas present at time $t$ (more gas = more leakage).\n",
    "\n",
    "- $k$ is a constant that encapsulates factors such as area of the hole, properties of the gas, and temperature.\n",
    "\n",
    "We can solve this symbolically, simply by separating the variables and integrating:\n",
    "\n",
    "- $\\frac{1}{y(t)} \\frac{dy}{dt} = -k$\n",
    "\n",
    "- $ln|y(t)| = kt + C$\n",
    "\n",
    "- $y(t) = y_0 ~e^{-kt}$"
   ]
  },
  {
   "cell_type": "markdown",
   "id": "9d87097f-d15d-4b0c-8faa-6980aaf7a194",
   "metadata": {
    "id": "9d87097f-d15d-4b0c-8faa-6980aaf7a194"
   },
   "source": [
    "### Logistic Growth Equation\n",
    "\n",
    "Population growth in an environment with limited carrying capacity can be modeled with the logistic growth equation:\n",
    "    \n",
    "$\\frac{dP}{dt} = r P \\left( 1 - \\frac{P}{k} \\right)$\n",
    "\n",
    "- $P$ is the population\n",
    "- $r$ is the growth rate\n",
    "- $k$ is the carrying capacity\n",
    "\n",
    "Through a number of steps, we can also derive the solution symbolically.\n",
    "\n",
    "$P(t) = \\frac{K}{1 + \\frac{K - P_0}{P_0} e^{-rt}}$"
   ]
  },
  {
   "cell_type": "markdown",
   "id": "91539332-6581-41c5-b3a9-5f09860341f2",
   "metadata": {
    "id": "91539332-6581-41c5-b3a9-5f09860341f2"
   },
   "source": [
    "### Predator-Prey Population Dynamics\n",
    "\n",
    "Differential equations can also come in systems. For example, the Lotka-Volterra equations (this is the 2D version) describe population dynamics in a predator-prey relationship.\n",
    "\n",
    "$\\frac{d}{dt}x = x(\\alpha - \\beta y) = ax - \\beta xy$\n",
    "\n",
    "$\\frac{d}{dt}y = y(-\\gamma + \\delta x) = -\\gamma x + \\delta xy$\n",
    "\n",
    "where $x$ and $y$ are the prey and predator population respectively, and $x(t)$ and $y(t)$ are denoted as $x$ and $y$ in order to simplify the notation. The other variables are constant coefficients that represent interaction and growth rates."
   ]
  },
  {
   "cell_type": "markdown",
   "id": "1fccbb0d-95bb-4c65-8121-0f13186261bb",
   "metadata": {
    "id": "1fccbb0d-95bb-4c65-8121-0f13186261bb"
   },
   "source": [
    "### Outbreak Modeling\n",
    "\n",
    "Though more elaborate alternatives exist, a common method of outbreak modeling is the SIR (Susceptible, Infectious, Recovered) model, which compartmentalizes the categories of the state of individuals such that we can model the size of each segment using derivatives.\n",
    "\n",
    "$\\frac{dS}{dt} = - \\beta S \\frac{I}{N}$\n",
    "\n",
    "$\\frac{dI}{dt} = \\beta S \\frac{I}{N} - \\gamma I$\n",
    "\n",
    "$\\frac{dR}{dt} = \\gamma I$\n",
    "\n",
    "where $S$, $I$, and $R$ are the susceptible, infectious, and recovered populations respectively, and the other variables are constant coefficients."
   ]
  },
  {
   "cell_type": "markdown",
   "id": "3f8fca0a-ee62-424c-9b80-8b2ef49f9b9e",
   "metadata": {
    "id": "3f8fca0a-ee62-424c-9b80-8b2ef49f9b9e"
   },
   "source": [
    "# Logistic Growth Equation in Python and R\n",
    "\n",
    "The below will demonstrate the solving of ODEs in Python and R, using the logistic population growth equation. We’ve shown above that it can be solved symbolically, but for other equations, a symbolic solution will not always be possible, or convenient. In each language below, we will first integrate the ODE given particular parameters, and then recover parameters given simulated data.\n",
    "\n",
    "Recall that the equation is:\n",
    "    \n",
    "$\\frac{dP}{dt} = r P \\left( 1 - \\frac{P}{k} \\right)$\n",
    "\n",
    "where $P$ is the population, $r$ is the growth rate, and $k$ is the carrying capacity. We’ll set the initial population to $100$, the growth rate to $10\\%$, and the carrying capacity to $1000$."
   ]
  },
  {
   "cell_type": "markdown",
   "id": "9c67c357-c841-4b3a-a5f0-7920e989b99a",
   "metadata": {
    "id": "9c67c357-c841-4b3a-a5f0-7920e989b99a"
   },
   "source": [
    "### Python\n",
    "\n",
    "First, we’ll solve the equation, given the simulated parameter values, using Scipy’s odeint."
   ]
  },
  {
   "cell_type": "code",
   "execution_count": null,
   "id": "2cb21779-417e-4be1-b73c-0312f0f761b8",
   "metadata": {
    "id": "2cb21779-417e-4be1-b73c-0312f0f761b8",
    "outputId": "43e3490b-27c5-433b-df9c-6adea31f388e",
    "tags": []
   },
   "outputs": [
    {
     "data": {
      "image/png": "[encoded data removed]",
      "text/plain": [
       "<Figure size 640x480 with 1 Axes>"
      ]
     },
     "metadata": {},
     "output_type": "display_data"
    }
   ],
   "source": [
    "import numpy as np\n",
    "from scipy.integrate import odeint\n",
    "import matplotlib.pyplot as plt\n",
    "\n",
    "# Define the logistic growth model\n",
    "def logistic_growth(P, t, r, k):\n",
    "    dP_dt = r * P * (1 - P / k)\n",
    "    return dP_dt\n",
    "\n",
    "# Set the initial state and parameters\n",
    "initial_state = 100    # Initial population\n",
    "r = 0.1                # Growth rate\n",
    "k = 1000               # Carrying capacity\n",
    "times = np.linspace(0, 100, 101)  # Time sequence\n",
    "\n",
    "# Solve the ODE\n",
    "result = odeint(logistic_growth, initial_state, times, args=(r, k))\n",
    "\n",
    "# Plot the results\n",
    "plt.plot(times, result, color='blue', linewidth=2)\n",
    "plt.xlabel('Time')\n",
    "plt.ylabel('Population Size')\n",
    "plt.title('Logistic Growth Model')\n",
    "plt.grid(True)\n",
    "plt.show()"
   ]
  },
  {
   "cell_type": "markdown",
   "id": "2049a21a-f74d-4702-98e3-6ceb3df53c10",
   "metadata": {
    "id": "2049a21a-f74d-4702-98e3-6ceb3df53c10"
   },
   "source": [
    "Next, we'll deterministically generate data using the same parameters, and see if the solver can then recover the true parameters. We use the <code>minimize</code> function from <code>scipy.optimize</code>, and with each iteration, call upon a loss function which integrates the equation using the current guess at parameter values, and measures the fit against the data."
   ]
  },
  {
   "cell_type": "code",
   "execution_count": null,
   "id": "ed256986-899d-4164-8446-1669600fdab8",
   "metadata": {
    "id": "ed256986-899d-4164-8446-1669600fdab8",
    "outputId": "130c5556-8f93-4c7d-dc92-e5260f9ffe7c",
    "tags": []
   },
   "outputs": [
    {
     "name": "stdout",
     "output_type": "stream",
     "text": [
      "Estimated parameters: 0.09999998711424758 1000.0000184181482\n"
     ]
    }
   ],
   "source": [
    "from scipy.optimize import minimize\n",
    "\n",
    "# Define the logistic growth model\n",
    "def logistic_growth(P, t, r, K):\n",
    "    dP_dt = r * P * (1 - P / K)\n",
    "    return dP_dt\n",
    "\n",
    "# Define a function to compute the loss (e.g., mean squared error)\n",
    "def loss_function(params, t, observed_data, initial_state):\n",
    "    r, K = params\n",
    "    solution = odeint(logistic_growth, initial_state, t, args=(r, K))\n",
    "    return np.mean((solution.flatten() - observed_data) ** 2)\n",
    "\n",
    "# Synthetic data\n",
    "times = np.linspace(0, 100, 101)\n",
    "observed_data = 1000 / (1 + (1000 - 100) / 100 * np.exp(-0.1 * times))  # Generate some data\n",
    "\n",
    "# Initial guess for parameters\n",
    "initial_guess = [0.05, 800]  # Starting guess for r and K\n",
    "initial_state = 100\n",
    "\n",
    "# Perform the optimization\n",
    "result = minimize(loss_function, initial_guess, args=(times, observed_data, initial_state))\n",
    "\n",
    "# Optimal parameters\n",
    "optimal_r, optimal_K = result.x\n",
    "print(\"Estimated parameters:\", optimal_r, optimal_K)"
   ]
  },
  {
   "cell_type": "markdown",
   "id": "75af2d29-6b1d-4451-a9c4-1ef281758dd6",
   "metadata": {
    "id": "75af2d29-6b1d-4451-a9c4-1ef281758dd6"
   },
   "source": [
    "We can see that the parameter values found for $r$ and $k$ are correct, at $10\\%$ and $1000$ respectively."
   ]
  },
  {
   "cell_type": "markdown",
   "id": "440ea3f2-8961-415a-a75d-86ddfda276a1",
   "metadata": {
    "id": "440ea3f2-8961-415a-a75d-86ddfda276a1"
   },
   "source": [
    "### R\n",
    "\n",
    "We’ll now use the <code>deSolve</code> package of R to accomplish the same as above, starting with integration of the ODE given specified parameter values (initial population $100$, growth rate $10\\%$, and carrying capacity $1000$)."
   ]
  },
  {
   "cell_type": "code",
   "execution_count": 3,
   "id": "8bf4d114-2063-413d-9552-53d7ccd1c664",
   "metadata": {
    "colab": {
     "base_uri": "https://localhost:8080/",
     "height": 437
    },
    "id": "8bf4d114-2063-413d-9552-53d7ccd1c664",
    "outputId": "9f52207e-c1de-4f95-f360-798ba3979a18"
   },
   "outputs": [
    {
     "data": {
      "image/png": "[encoded data removed]",
      "text/plain": [
       "Plot with title “Logistic Growth Model”"
      ]
     },
     "metadata": {
      "image/png": {
       "height": 420,
       "width": 420
      }
     },
     "output_type": "display_data"
    }
   ],
   "source": [
    "# install.packages('deSolve')\n",
    "library(deSolve)\n",
    "\n",
    "# Define the logistic growth model\n",
    "logistic_growth <- function(t, state, parameters) {\n",
    "  P <- state[1]\n",
    "  r <- parameters[1]\n",
    "  K <- parameters[2]\n",
    "\n",
    "  # Define the rate of change\n",
    "  dP <- r * P * (1 - P / K)\n",
    "\n",
    "  # Return the rate of change\n",
    "  return(list(c(dP)))\n",
    "}\n",
    "\n",
    "# Set the initial state and parameters\n",
    "initial_state <- c(P = 100)  # Initial population\n",
    "parameters <- c(r = 0.1, K = 1000)  # Growth rate and carrying capacity\n",
    "times <- seq(0, 100, by = 1)  # Time sequence\n",
    "\n",
    "# Solve the ODE\n",
    "out <- ode(y = initial_state, times = times, func = logistic_growth, parms = parameters)\n",
    "\n",
    "# Convert output to a data frame for easier plotting\n",
    "out_df <- as.data.frame(out)\n",
    "\n",
    "# Plot the results\n",
    "plot(out_df$time, out_df$P, type = \"l\", col = \"blue\", lwd = 2,\n",
    "     xlab = \"Time\", ylab = \"Population Size\",\n",
    "     main = \"Logistic Growth Model\")\n",
    "grid()"
   ]
  },
  {
   "cell_type": "markdown",
   "id": "1c705152-8ddb-4eb4-8d67-6814f95b12ef",
   "metadata": {
    "id": "2dc80a5b-f66e-41f3-b5ff-358b8dfc8154"
   },
   "source": [
    "And then simulating data with those parameter values, and recovering them as estimates from the solver."
   ]
  },
  {
   "cell_type": "code",
   "execution_count": 4,
   "id": "7b419418-ff90-46d9-a1ae-17025d1bf859",
   "metadata": {
    "colab": {
     "base_uri": "https://localhost:8080/"
    },
    "id": "7b419418-ff90-46d9-a1ae-17025d1bf859",
    "outputId": "98901c73-bca4-49b6-a820-6b0b7fa9ac32"
   },
   "outputs": [
    {
     "name": "stdout",
     "output_type": "stream",
     "text": [
      "Estimated parameters:\n",
      "r: 0.1000114 \n",
      "k: 999.9792 \n"
     ]
    }
   ],
   "source": [
    "# Define the logistic growth model\n",
    "logistic_growth <- function(t, state, parameters) {\n",
    "  P <- state[1]\n",
    "  r <- parameters[1]\n",
    "  k <- parameters[2]\n",
    "\n",
    "  # Define the rate of change\n",
    "  dP <- r * P * (1 - P / k)\n",
    "\n",
    "  # Return the rate of change\n",
    "  list(c(dP))\n",
    "}\n",
    "\n",
    "# Generate synthetic observed data\n",
    "generate_data <- function(r, k, initial_state, times) {\n",
    "  parameters <- c(r, k)\n",
    "  out <- ode(y = initial_state, times = times, func = logistic_growth, parms = parameters)\n",
    "  as.data.frame(out)$P\n",
    "}\n",
    "\n",
    "# Set known parameters for generating synthetic data\n",
    "true_r <- 0.1\n",
    "true_k <- 1000\n",
    "initial_state <- c(P = 100)\n",
    "times <- seq(0, 100, by = 1)\n",
    "observed_data <- generate_data(true_r, true_k, initial_state, times)\n",
    "\n",
    "# Define the loss function (e.g., mean squared error)\n",
    "loss_function <- function(params) {\n",
    "  r <- params[1]\n",
    "  k <- params[2]\n",
    "  predicted <- generate_data(r, k, initial_state, times)\n",
    "  mean((predicted - observed_data) ^ 2)\n",
    "}\n",
    "\n",
    "# Initial guess for parameters\n",
    "initial_guess <- c(r = 0.05, K = 800)\n",
    "\n",
    "# Perform the optimization\n",
    "result <- optim(par = initial_guess, fn = loss_function)\n",
    "\n",
    "# Extract optimal parameters\n",
    "optimal_r <- result$par[1]\n",
    "optimal_k <- result$par[2]\n",
    "\n",
    "# Display the results\n",
    "cat(\"Estimated parameters:\\n\")\n",
    "cat(\"r:\", optimal_r, \"\\n\")\n",
    "cat(\"k:\", optimal_k, \"\\n\")\n",
    "\n",
    "# Plot the observed data and fitted model for comparison\n",
    "fitted_data <- generate_data(optimal_r, optimal_k, initial_state, times)"
   ]
  },
  {
   "cell_type": "markdown",
   "id": "975f43fe-852f-4c6d-ab0c-e7e1beb5d40e",
   "metadata": {
    "id": "975f43fe-852f-4c6d-ab0c-e7e1beb5d40e"
   },
   "source": [
    "And we can see that the results are correct."
   ]
  },
  {
   "cell_type": "markdown",
   "id": "3ecf5419-df12-4c52-b777-7feafd345fcf",
   "metadata": {
    "id": "3ecf5419-df12-4c52-b777-7feafd345fcf"
   },
   "source": [
    "# What’s Next?\n",
    "\n",
    "That concludes this first article on ordinary differential equations. The following ones will focus on compartmentalized predator-prey and outbreak modeling, using the probabilistic programming software Stan, a C++ based sampler available through Python, R, and other languages."
   ]
  },
  {
   "cell_type": "markdown",
   "id": "f6eaf98b-8cb3-4c3f-86e2-8dc172c93964",
   "metadata": {
    "id": "f6eaf98b-8cb3-4c3f-86e2-8dc172c93964"
   },
   "source": [
    "# References\n",
    "\n",
    "- 3Blue1Brown. Differential Equations. https://www.3blue1brown.com/lessons/differential-equations\n",
    "\n",
    "- Scipy User Docs. scipy.integrate.ode. https://docs.scipy.org/doc/scipy/reference/generated/scipy.integrate.odeint.html\n",
    "\n",
    "- Scipy User Docs. scipy.optimize.minimize. https://docs.scipy.org/doc/scipy/reference/generated/scipy.optimize.minimize.html\n",
    "\n",
    "- R Documentation. deSolve ode Function. https://www.rdocumentation.org/packages/deSolve/versions/1.40/topics/ode"
   ]
  }
 ],
 "metadata": {
  "colab": {
   "provenance": []
  },
  "kernelspec": {
   "display_name": "R",
   "name": "ir"
  },
  "language_info": {
   "name": "R"
  }
 },
 "nbformat": 4,
 "nbformat_minor": 5
}
