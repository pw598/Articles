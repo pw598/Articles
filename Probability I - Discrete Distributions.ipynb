{
 "cells": [
  {
   "cell_type": "markdown",
   "id": "9f11ab6b-53fc-4c4b-bfa4-66c38cca7276",
   "metadata": {},
   "source": [
    "# Probability I: Discrete Distributions"
   ]
  },
  {
   "cell_type": "markdown",
   "id": "7f1d53d3-7ab3-472e-b709-5d44f57ab177",
   "metadata": {},
   "source": [
    "<i>Patrick White</i></br>\n",
    "<i>Dec 04, 2024</i>"
   ]
  },
  {
   "cell_type": "markdown",
   "id": "20976c5d-b560-4496-96e3-4be8735bb5f8",
   "metadata": {},
   "source": [
    "<img src=\"img/pd1.png\" style=\"height: 450px; width:auto;\">"
   ]
  },
  {
   "cell_type": "markdown",
   "id": "e56fa103-2108-40f4-a39c-abfef27ccecb",
   "metadata": {},
   "source": [
    "# Outline\n",
    "\n",
    "- Random Variables\n",
    "- Bernoulli\n",
    "- Binomial\n",
    "- Multinomial\n",
    "- Poisson\n",
    "- Negative Binomial\n",
    "- Geometric\n",
    "- Hypergeometric\n",
    "- What’s Next?"
   ]
  },
  {
   "cell_type": "markdown",
   "id": "ddbbdcb3-8842-4746-b923-570bcaca33e1",
   "metadata": {},
   "source": [
    "# Random Variables\n",
    "\n",
    "When we perform an experiment, we can calculate the probability that a random variable Y will take on a range of values, given its randomness. A random variable (RV) maps the sample space to the real domain, where it can take on one of many values, and probabilities are assigned to each of the outcomes.\n",
    "\n",
    "Discrete random variables represent values in a finite countable set, or intervals of real numbers, and summarize probabilities with a probability mass function (PMF), providing an analytical expression of the outcome probabilities in which the probabilities are between $0$ and $1$, and sum to $1$.\n",
    "\n",
    "Continuous probability distributions (the subject of the next two articles) have an infinite number of points along an unbroken function, and the probabilities are summarized by a probability density function (PDF). For many distributions, a closed-form cumulative density function (CDF) representing the accumulated sum or integral of the probabilities exists. All parametric distributions have ‘moments’ which include the expected value $E[Y]$ and the variance $Var[Y]$, with standard deviation equal to the square root of the variance.\n",
    "\n",
    "You will encounter PMFs and PDFs expressed in ways that give alternative symbols to various parameters. You will also find alternative parameterizations, where for example, a term may be represented in reciprocal fashion, or as a relation to the expected value, rather than something more abstract.\n",
    "\n",
    "I’ve aligned pretty consistently with https://distribution-explorer.github.io/ for the parameterizations below, though in some cases, have opted for symbols more commonly used in literature. This site does a good job of specifying the parameterizations used in various software (Scipy, Numpy, Stan, Julia) and provides some interactive exploration tools.\n",
    "\n",
    "The code to generate the visuals I’ve linked to below are available in the user documentation for the Python library PyMC."
   ]
  },
  {
   "cell_type": "markdown",
   "id": "231e9c75-bb3c-4df3-80f0-ae5b1f0ac44c",
   "metadata": {},
   "source": [
    "# Bernoulli\n",
    "\n",
    "The Bernoulli distribution is, I would imagine, the most intuitive, as it describes the simplest type of experiment. A Bernoulli random variable represents a single trial with a binary outcome of success (represented by $1$) equal to probability $p$, and a probability of failure (represented by $0$) intuitively equal to $1-p$, represented symbolically as $q$.\n",
    "\n",
    "$f(y;p) = \\left\\{ \\begin{array}{} q=1-p & & y = 0 \\\\ p & & y = 1. \\end{array} \\right.$\n",
    "\n",
    "<img src=\"https://www.pymc.io/projects/docs/en/stable/_images/pymc-Bernoulli-1.png\" style=\"height: 300px; width:auto;\">\n",
    "\n",
    "<i>https://www.pymc.io/projects/docs/en/stable/api/distributions/generated/pymc.Bernoulli.html</i>\n",
    "\n",
    "As a distribution of probabilities for two outcomes, the expected value of the probability is the probability of the greater (or equally) weighted outcome, which is simply $p$. The variance (less intuitively) is $pq$.\n",
    "\n",
    "In Bayesian statistics - the subject of a set of future articles -  the conjugate prior for the Bernoulli is the Beta (a continuous distribution), meaning that if the parameter $p$ of a Bernoulli distribution is taken from a Beta, then there is a closed form posterior distribution (the probability distribution of a set of parameters after observing data) that is also Beta distributed, with parameter values derived from that of the Beta ‘prior’ and that of the Bernoulli likelihood."
   ]
  },
  {
   "cell_type": "markdown",
   "id": "c937c6a5-392f-4b08-ba2a-5a56ede6af22",
   "metadata": {
    "jp-MarkdownHeadingCollapsed": true,
    "tags": []
   },
   "source": [
    "# Binomial\n",
    "\n",
    "The Binomial distribution is a generalization of the Bernoulli, from one trial to multiple trials. It represents the likelihood of the number of successes $k$ in $n$ Bernoulli trials of success probability $p$.\n",
    "\n",
    "#### PMF:\n",
    "\n",
    "$P(Y = k) = \\binom{n}{k} p^k q^{n-k}, ~~k \\in \\{0,1,2,\\ldots,n\\}$\n",
    "\n",
    "where $\\binom{n}{k}$ represents the binomial operation,\n",
    "\n",
    "$\\binom{n}{k} = \\frac{n!}{k!(n-k)!}$\n",
    "\n",
    "This ‘binomial coefficient’ determines the number of ways to arrange $k$ successes in $n$ trials. For a specific sequence of $k$ successes and $n−k$ failures, the probability is given by multiplying the probabilities of each trial outcome. Since the trials are independent, we have:\n",
    "\n",
    "$p^k (1-p)^{n-k}$\n",
    "\n",
    "Putting it together: the total probability of getting exactly $k$ successes in $n$ trials is the product of the number of ways to arrange $k$ successes and the probability of any specific arrangement of $k$ successes and $n−k$ failures.\n",
    "\n",
    "$P(Y = k) = \\binom{n}{k} p^k q^{n-k}$\n",
    "\n",
    "<img src=\"https://www.pymc.io/projects/docs/en/stable/_images/pymc-Binomial-1.png\" style=\"height: 300px; width:auto;\">\n",
    "\n",
    "<i>https://www.pymc.io/projects/docs/en/stable/api/distributions/generated/pymc.Binomial.html</i>\n",
    "\n",
    "The conjugate prior of the Binomial distribution is also the Beta."
   ]
  },
  {
   "cell_type": "markdown",
   "id": "e0645072-b87c-48ed-a727-65875fba88c7",
   "metadata": {},
   "source": [
    "# Multinomial\n",
    "\n",
    "The Multinomial distribution is a multivariate distribution that generalizes the Binomial to more than two categories of outcome. The marginal distribution of a Multinomial for two variables is Binomial. Each of $n$ objects is independently placed into one of $k$ categories, each with probability $p_k$.\n",
    "\n",
    "$P(\\mathbf{y}; {\\mathbf{p}}, n) = \\frac{n!}{y_1!\\,y_2! \\cdots y_K!}\\,p_1^{y_1}\\,p_2^{y_2} \\cdots p_K^{y_K}$\n",
    "\n",
    "The expected value is $np_k$. The variance is $np_k(1-p_k)$. The intuition is that if $n_1, \\ldots, n_k$ do add up to $n$, then any particular way of putting $n_1$ objects into $k_1$, $n_2$ into $k_2$, etc., has probability $p_1^{n_1}, p_2^{n_2}, \\ldots, p_k^{n_k}$, and there are $\\frac{n!}{n_1! n_2! \\ldots n_k!}$ ways to do this.\n",
    "\n",
    "The conjugate prior of the Multinomial is the Dirichlet, which, like the Beta, we will get to in the next article, on continuous distributions."
   ]
  },
  {
   "cell_type": "markdown",
   "id": "92c21c01-5d54-4ddc-8d81-17a3a467db17",
   "metadata": {},
   "source": [
    "# Poisson\n",
    "\n",
    "The Poisson distribution is a limiting case of the Binomial, as $n \\rightarrow \\infty$ and  $p \\rightarrow 0$. It’s more intuitive to think of it as a model for the frequency of rare events, with data defined as counts. It expresses the probability of a given number of events occurring in a fixed interval of time or space, in which events occur with a constant mean rate, and independently of the time since the last event. The derivation is natural, but a constraint toward usage is that the mean of the data is expected to be equal (or very close) to the variance.\n",
    "\n",
    "For large $n$, using the approximation\n",
    "\n",
    "$\\binom{n}{k} \\approx \\frac{n^k}{k!}$\n",
    "\n",
    "we have:\n",
    "\n",
    "$\\binom{n}{k}p^k (1-p)^{n-k} \\approx \\frac{n^k}{k!}p^k (1-p)^{n-k}$\n",
    "\n",
    "As $n \\rightarrow \\infty$,\n",
    "\n",
    "$\\left( 1 - \\frac{\\lambda}{n} \\right)^n \\rightarrow e^{- \\lambda}$\n",
    "\n",
    "and \n",
    "\n",
    "$\\left( 1 - \\frac{\\lambda}{n} \\right)^{-k} \\rightarrow 1$\n",
    "\n",
    "Combining the results, we get:\n",
    "\n",
    "#### PMF:\n",
    "\n",
    "$P(Y=k) = \\frac{e^{-\\lambda}\\lambda^k}{k!}$\n",
    "\n",
    "<img src=\"https://www.pymc.io/projects/docs/en/stable/_images/pymc-Poisson-1.png\" style=\"height: 300px; width:auto;\">\n",
    "\n",
    "<i>https://www.pymc.io/projects/docs/en/stable/api/distributions/generated/pymc.Poisson.html</i>\n",
    "\n",
    "Both the expected value and variance are equal to $\\lambda$.\n",
    "\n",
    "The conjugate prior of the Poisson likelihood is the Gamma (continuous)."
   ]
  },
  {
   "cell_type": "markdown",
   "id": "ae833f34-ffd2-4f1b-90f4-6add06ad3c8b",
   "metadata": {},
   "source": [
    "# Negative Binomial\n",
    "\n",
    "The contrast between the Negative Binomial and the Binomial is that the Binomial defines a distribution in terms of a fixed number of trials and random probability, whereas the Negative Binomial represents a random number of trials and fixed probability. It asks, how many Bernoulli trials before a certain number of successes?\n",
    "\n",
    "#### PMF Parameterization #1:\n",
    "\n",
    "$f(y;\\alpha,\\beta) = \\begin{pmatrix} y+\\alpha-1 \\\\ \\alpha-1 \\end{pmatrix} \\left(\\frac{\\beta}{1+\\beta}\\right)^\\alpha \\left(\\frac{1}{1+\\beta}\\right)^y.$\n",
    "\n",
    "$\\alpha$ is the desired number of successes, and the probability of each Bernoulli trial is given by $\\beta/(1+\\beta)$. Generally speaking, $\\alpha$ does not need to be an integer, so we can use an alternative parameterization in which the first term is not a binomial coefficient.\n",
    "\n",
    "$f(y;\\alpha,\\beta) = \\frac{\\Gamma(y+\\alpha)}{\\Gamma(\\alpha) \\, y!}\\,\\left(\\frac{\\beta}{1+\\beta}\\right)^\\alpha \\left(\\frac{1}{1+\\beta}\\right)^y.$\n",
    "\n",
    "$\\Gamma$ is the Gamma function, an extension to the factorial function to continuous values that is commonly used in the normalization of probability distributions.\n",
    "\n",
    "Each of the above have expected value $\\alpha/\\beta$, and variance \n",
    "\n",
    "$\\displaystyle{\\frac{\\alpha(1+\\beta)}{\\beta^2}}$\n",
    "\n",
    "The Negative Binomial has several parameterizations, one of which is based upon a mean $\\mu$ and dispersion parameter $\\varphi$. In this case, $1/\\varphi$ is the rate of overdispersion compared to a variance that equals the mean, and therefore, the Poisson is a limiting case of the Negative Binomial where $\\varphi \\rightarrow \\infty$.\n",
    "\n",
    "#### PMF Parameterization #2:\n",
    "\n",
    "$f(y;\\mu,\\phi) = \\frac{\\Gamma(y+\\phi)}{\\Gamma(\\phi) \\, y!}\\,\\left(\\frac{\\phi}{\\mu  +\\phi}\\right)^\\phi\\left(\\frac{\\mu}{\\mu+\\phi}\\right)^y.$\n",
    "\n",
    "In this parameterization, the expected value is $\\mu$ and the variance is\n",
    "\n",
    "$\\displaystyle{\\mu\\left(1 + \\frac{\\mu}{\\phi}\\right)}$\n",
    "\n",
    "https://distribution-explorer.github.io/ notes that there is yet another parameterization used in Scipy and Numpy:\n",
    "\n",
    "#### PMF Parameterization #3:\n",
    "\n",
    "$f(y;n, p) = \\frac{\\Gamma(y+n)}{\\Gamma(n) \\, y!}\\,p^n \\left(1-p\\right)^y.$\n",
    "\n",
    "<u><i>Expected Value:</i></u>\n",
    "\n",
    "$\\displaystyle{n\\,\\frac{1-p}{p}}$\n",
    "\n",
    "<u><i>Variance:</i></u>\n",
    "\n",
    "$\\displaystyle{n\\,\\frac{1-p}{p^2}}$\n",
    "\n",
    "The conjugate prior of the success probability $p$ is the Beta distribution.\n",
    "\n",
    "<img src=\"https://www.pymc.io/projects/docs/en/stable/_images/pymc-NegativeBinomial-1.png\" style=\"height: 300px; width:auto;\">\n",
    "\n",
    "<i>https://www.pymc.io/projects/docs/en/stable/api/distributions/generated/pymc.NegativeBinomial.html</i>"
   ]
  },
  {
   "cell_type": "markdown",
   "id": "257409b5-acbb-4a05-93ca-9cb55b8c2118",
   "metadata": {},
   "source": [
    "# Geometric\n",
    "\n",
    "The Geometric distribution is a special case of the Negative Binomial where $\\varphi=1$. In other words, it models the number of trials until the first success.\n",
    "\n",
    "#### PMF:\n",
    "\n",
    "$f(y;p) = (1-p)^y \\, p.$\n",
    "\n",
    "<u><i>Expected Value:</i></u>\n",
    "\n",
    "$\\displaystyle{\\frac{1-p}{p}}$\n",
    "\n",
    "<u><i>Variance:</i></u>\n",
    "\n",
    "$\\displaystyle{\\frac{1-p}{p^2}}$\n",
    "\n",
    "<img src=\"https://www.pymc.io/projects/docs/en/stable/_images/pymc-Geometric-1.png\" style=\"height: 300px; width:auto;\">\n",
    "\n",
    "<i>https://www.pymc.io/projects/docs/en/stable/api/distributions/generated/pymc.Geometric.html</i>\n",
    "\n",
    "The conjugate prior for the Geometric likelihood is the Beta distribution."
   ]
  },
  {
   "cell_type": "markdown",
   "id": "c37c3484-cf90-4585-90ff-b77a05203f84",
   "metadata": {},
   "source": [
    "# Hypergeometric\n",
    "\n",
    "The Hypergeometric distribution is more directly connected to the Binomial than the Geometric; it is what the Binomial would be if sampling were done without replacement, instead of independently. Like the Binomial, it measures the probability of $k$ successes in $n$ trials.\n",
    "\n",
    "#### PMF: \n",
    "\n",
    "The number of ways to choose $k$ successes from $K$ successes is given by $\\binom{K}{k}$. The number of ways to choose $n−k$ failures from $N−k$ failures is given by $\\binom{N-K}{n-k}$. The number of ways to choose $n$ items from $N$ items is given by $\\binom{N}{n}$.\n",
    "\n",
    "Putting it together, the probability of obtaining exactly $k$ successes in the sample is the ratio of the number of favorable outcomes to the total number of possible outcomes.\n",
    "\n",
    "$P(X = k) = \\frac{\\binom{K}{k}\\binom{N-k}{n-k}}{\\binom{N}{n}}$\n",
    "\n",
    "- $N$ is the population size\n",
    "- $K$ is the number of success states in the population\n",
    "- $n$ is the number of trials/draws\n",
    "- $k$ is the number of observed successes\n",
    "\n",
    "<u><i>Expected Value:</i></u>\n",
    "\n",
    "$\\mu = \\frac{nK}{N}$\n",
    "\n",
    "<u><i>Variance:</i></u>\n",
    "\n",
    "$\\frac{N-n}{N-1} ~n \\frac{\\mu}{n} ~\\left( 1 - \\frac{\\mu}{n} \\right)$\n",
    "\n",
    "<img src=\"https://www.pymc.io/projects/docs/en/latest/_images/pymc-HyperGeometric-1.png\" style=\"height: 300px; width:auto;\">\n",
    "\n",
    "<i>https://www.pymc.io/projects/docs/en/latest/api/distributions/generated/pymc.HyperGeometric.html</i>"
   ]
  },
  {
   "cell_type": "markdown",
   "id": "d4218d5d-1658-4963-96f2-e786d10b8de3",
   "metadata": {},
   "source": [
    "# What’s Next?\n",
    "\n",
    "That concludes this summary of discrete probability distributions. The next two articles will focus on continuous distributions, roughly categorized into two separate families."
   ]
  },
  {
   "cell_type": "markdown",
   "id": "1ceed1dd-8dad-4faf-839d-1684bcf04f8d",
   "metadata": {},
   "source": [
    "# References\n",
    "\n",
    "- (n.d.). Distribution Explorer. https://distribution-explorer.github.io/index.html\n",
    "\n",
    "- (n.d.). PyMC API. Distributions. https://www.pymc.io/projects/docs/en/stable/api/distributions.html\n",
    "\n",
    "- Blitzstein, J. (2019). Introduction to Probability (2nd ed.). Harvard University and Stanford University. https://drive.google.com/file/d/1VmkAAGOYCTORq1wxSQqy255qLJjTNvBI/view"
   ]
  }
 ],
 "metadata": {
  "kernelspec": {
   "display_name": "Python 3 (ipykernel)",
   "language": "python",
   "name": "python3"
  },
  "language_info": {
   "codemirror_mode": {
    "name": "ipython",
    "version": 3
   },
   "file_extension": ".py",
   "mimetype": "text/x-python",
   "name": "python",
   "nbconvert_exporter": "python",
   "pygments_lexer": "ipython3",
   "version": "3.11.5"
  }
 },
 "nbformat": 4,
 "nbformat_minor": 5
}
